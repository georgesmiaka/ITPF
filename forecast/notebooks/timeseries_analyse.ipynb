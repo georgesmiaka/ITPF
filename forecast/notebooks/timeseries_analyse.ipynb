{
 "cells": [
  {
   "cell_type": "markdown",
   "metadata": {},
   "source": [
    "## Time series analyse"
   ]
  },
  {
   "cell_type": "markdown",
   "metadata": {},
   "source": [
    "## We choose a window of 60 time steps\n",
    "## We want to learn 48 steps and predict 12 steps.\n",
    "## Each step = 1 second"
   ]
  },
  {
   "cell_type": "code",
   "execution_count": 1,
   "metadata": {},
   "outputs": [
    {
     "name": "stderr",
     "output_type": "stream",
     "text": [
      "2024-04-25 22:37:00.838234: I tensorflow/core/util/port.cc:113] oneDNN custom operations are on. You may see slightly different numerical results due to floating-point round-off errors from different computation orders. To turn them off, set the environment variable `TF_ENABLE_ONEDNN_OPTS=0`.\n",
      "2024-04-25 22:37:01.029893: E external/local_xla/xla/stream_executor/cuda/cuda_dnn.cc:9261] Unable to register cuDNN factory: Attempting to register factory for plugin cuDNN when one has already been registered\n",
      "2024-04-25 22:37:01.029932: E external/local_xla/xla/stream_executor/cuda/cuda_fft.cc:607] Unable to register cuFFT factory: Attempting to register factory for plugin cuFFT when one has already been registered\n",
      "2024-04-25 22:37:01.063515: E external/local_xla/xla/stream_executor/cuda/cuda_blas.cc:1515] Unable to register cuBLAS factory: Attempting to register factory for plugin cuBLAS when one has already been registered\n",
      "2024-04-25 22:37:01.136975: I tensorflow/core/platform/cpu_feature_guard.cc:182] This TensorFlow binary is optimized to use available CPU instructions in performance-critical operations.\n",
      "To enable the following instructions: AVX2 AVX512F AVX512_VNNI FMA, in other operations, rebuild TensorFlow with the appropriate compiler flags.\n",
      "2024-04-25 22:37:01.881871: W tensorflow/compiler/tf2tensorrt/utils/py_utils.cc:38] TF-TRT Warning: Could not find TensorRT\n"
     ]
    }
   ],
   "source": [
    "import sys\n",
    "sys.path.append('../')\n",
    "\n",
    "import pandas as pd\n",
    "import numpy as np\n",
    "import keras\n",
    "from datetime import datetime, timedelta\n",
    "from sklearn.preprocessing import StandardScaler\n",
    "from configs.utils_2 import windowing, windowing_array\n",
    "from sklearn.model_selection import train_test_split\n",
    "from configs.utils_2 import split_sequence, split_sequence_long\n",
    "import math\n",
    "\n",
    "%load_ext autoreload\n",
    "%autoreload 2"
   ]
  },
  {
   "cell_type": "markdown",
   "metadata": {},
   "source": [
    "### Data Exploration"
   ]
  },
  {
   "cell_type": "code",
   "execution_count": 2,
   "metadata": {},
   "outputs": [],
   "source": [
    "csv_input = pd.read_csv('../data/files/dataset_trajectory.csv')\n",
    "data = csv_input"
   ]
  },
  {
   "cell_type": "code",
   "execution_count": 3,
   "metadata": {},
   "outputs": [
    {
     "name": "stdout",
     "output_type": "stream",
     "text": [
      "(4597200, 6)\n"
     ]
    },
    {
     "data": {
      "text/html": [
       "<div>\n",
       "<style scoped>\n",
       "    .dataframe tbody tr th:only-of-type {\n",
       "        vertical-align: middle;\n",
       "    }\n",
       "\n",
       "    .dataframe tbody tr th {\n",
       "        vertical-align: top;\n",
       "    }\n",
       "\n",
       "    .dataframe thead th {\n",
       "        text-align: right;\n",
       "    }\n",
       "</style>\n",
       "<table border=\"1\" class=\"dataframe\">\n",
       "  <thead>\n",
       "    <tr style=\"text-align: right;\">\n",
       "      <th></th>\n",
       "      <th>pos.x</th>\n",
       "      <th>pos.y</th>\n",
       "      <th>pos.z</th>\n",
       "      <th>heading</th>\n",
       "      <th>velocity</th>\n",
       "      <th>weather</th>\n",
       "    </tr>\n",
       "  </thead>\n",
       "  <tbody>\n",
       "    <tr>\n",
       "      <th>0</th>\n",
       "      <td>-77.030670</td>\n",
       "      <td>-1.283448</td>\n",
       "      <td>0.294200</td>\n",
       "      <td>-1.568362</td>\n",
       "      <td>7.056001</td>\n",
       "      <td>2</td>\n",
       "    </tr>\n",
       "    <tr>\n",
       "      <th>1</th>\n",
       "      <td>-77.030670</td>\n",
       "      <td>-1.283448</td>\n",
       "      <td>0.061311</td>\n",
       "      <td>-1.568362</td>\n",
       "      <td>7.172558</td>\n",
       "      <td>2</td>\n",
       "    </tr>\n",
       "    <tr>\n",
       "      <th>2</th>\n",
       "      <td>-77.029778</td>\n",
       "      <td>-1.283539</td>\n",
       "      <td>-0.030319</td>\n",
       "      <td>-1.568443</td>\n",
       "      <td>1.053028</td>\n",
       "      <td>2</td>\n",
       "    </tr>\n",
       "    <tr>\n",
       "      <th>3</th>\n",
       "      <td>-77.028854</td>\n",
       "      <td>-1.283728</td>\n",
       "      <td>-0.023681</td>\n",
       "      <td>-1.568593</td>\n",
       "      <td>0.883579</td>\n",
       "      <td>2</td>\n",
       "    </tr>\n",
       "    <tr>\n",
       "      <th>4</th>\n",
       "      <td>-77.008575</td>\n",
       "      <td>-1.288779</td>\n",
       "      <td>0.003869</td>\n",
       "      <td>-1.572756</td>\n",
       "      <td>1.548891</td>\n",
       "      <td>2</td>\n",
       "    </tr>\n",
       "  </tbody>\n",
       "</table>\n",
       "</div>"
      ],
      "text/plain": [
       "       pos.x     pos.y     pos.z   heading  velocity  weather\n",
       "0 -77.030670 -1.283448  0.294200 -1.568362  7.056001        2\n",
       "1 -77.030670 -1.283448  0.061311 -1.568362  7.172558        2\n",
       "2 -77.029778 -1.283539 -0.030319 -1.568443  1.053028        2\n",
       "3 -77.028854 -1.283728 -0.023681 -1.568593  0.883579        2\n",
       "4 -77.008575 -1.288779  0.003869 -1.572756  1.548891        2"
      ]
     },
     "execution_count": 3,
     "metadata": {},
     "output_type": "execute_result"
    }
   ],
   "source": [
    "# show head\n",
    "print(data.shape)\n",
    "data.head()"
   ]
  },
  {
   "cell_type": "code",
   "execution_count": 4,
   "metadata": {},
   "outputs": [
    {
     "name": "stdout",
     "output_type": "stream",
     "text": [
      "4597200\n"
     ]
    }
   ],
   "source": [
    "# Remove rows with any NaN values\n",
    "data = data.dropna()\n",
    "print(len(data))"
   ]
  },
  {
   "cell_type": "markdown",
   "metadata": {},
   "source": [
    "### Time"
   ]
  },
  {
   "cell_type": "code",
   "execution_count": 8,
   "metadata": {},
   "outputs": [],
   "source": [
    "## Adding date time\n",
    "# Start datetime\n",
    "start_datetime = datetime(2009, 1, 1, 0, 0, 0)\n",
    "\n",
    "# Generate datetime column with incrementing seconds\n",
    "num_rows = len(data)\n",
    "seconds_increment = timedelta(seconds=1)\n",
    "\n",
    "date_times = [start_datetime + i * seconds_increment for i in range(num_rows)]\n",
    "\n",
    "# Add datetime column to DataFrame\n",
    "data['Date Time'] = date_times"
   ]
  },
  {
   "cell_type": "code",
   "execution_count": 9,
   "metadata": {},
   "outputs": [],
   "source": [
    "temp_data = data"
   ]
  },
  {
   "cell_type": "code",
   "execution_count": 10,
   "metadata": {},
   "outputs": [
    {
     "data": {
      "text/html": [
       "<div>\n",
       "<style scoped>\n",
       "    .dataframe tbody tr th:only-of-type {\n",
       "        vertical-align: middle;\n",
       "    }\n",
       "\n",
       "    .dataframe tbody tr th {\n",
       "        vertical-align: top;\n",
       "    }\n",
       "\n",
       "    .dataframe thead th {\n",
       "        text-align: right;\n",
       "    }\n",
       "</style>\n",
       "<table border=\"1\" class=\"dataframe\">\n",
       "  <thead>\n",
       "    <tr style=\"text-align: right;\">\n",
       "      <th></th>\n",
       "      <th>pos.x</th>\n",
       "      <th>pos.y</th>\n",
       "      <th>pos.z</th>\n",
       "      <th>heading</th>\n",
       "      <th>velocity</th>\n",
       "      <th>weather</th>\n",
       "      <th>Minute sin</th>\n",
       "      <th>Minute cos</th>\n",
       "      <th>Date Time</th>\n",
       "    </tr>\n",
       "  </thead>\n",
       "  <tbody>\n",
       "    <tr>\n",
       "      <th>0</th>\n",
       "      <td>-77.030670</td>\n",
       "      <td>-1.283448</td>\n",
       "      <td>0.294200</td>\n",
       "      <td>-1.568362</td>\n",
       "      <td>7.056001</td>\n",
       "      <td>2</td>\n",
       "      <td>-1.792514e-08</td>\n",
       "      <td>1.000000</td>\n",
       "      <td>2009-01-01 00:00:00</td>\n",
       "    </tr>\n",
       "    <tr>\n",
       "      <th>1</th>\n",
       "      <td>-77.030670</td>\n",
       "      <td>-1.283448</td>\n",
       "      <td>0.061311</td>\n",
       "      <td>-1.568362</td>\n",
       "      <td>7.172558</td>\n",
       "      <td>2</td>\n",
       "      <td>1.045284e-01</td>\n",
       "      <td>0.994522</td>\n",
       "      <td>2009-01-01 00:00:01</td>\n",
       "    </tr>\n",
       "    <tr>\n",
       "      <th>2</th>\n",
       "      <td>-77.029778</td>\n",
       "      <td>-1.283539</td>\n",
       "      <td>-0.030319</td>\n",
       "      <td>-1.568443</td>\n",
       "      <td>1.053028</td>\n",
       "      <td>2</td>\n",
       "      <td>2.079117e-01</td>\n",
       "      <td>0.978148</td>\n",
       "      <td>2009-01-01 00:00:02</td>\n",
       "    </tr>\n",
       "    <tr>\n",
       "      <th>3</th>\n",
       "      <td>-77.028854</td>\n",
       "      <td>-1.283728</td>\n",
       "      <td>-0.023681</td>\n",
       "      <td>-1.568593</td>\n",
       "      <td>0.883579</td>\n",
       "      <td>2</td>\n",
       "      <td>3.090170e-01</td>\n",
       "      <td>0.951057</td>\n",
       "      <td>2009-01-01 00:00:03</td>\n",
       "    </tr>\n",
       "    <tr>\n",
       "      <th>4</th>\n",
       "      <td>-77.008575</td>\n",
       "      <td>-1.288779</td>\n",
       "      <td>0.003869</td>\n",
       "      <td>-1.572756</td>\n",
       "      <td>1.548891</td>\n",
       "      <td>2</td>\n",
       "      <td>4.067366e-01</td>\n",
       "      <td>0.913545</td>\n",
       "      <td>2009-01-01 00:00:04</td>\n",
       "    </tr>\n",
       "  </tbody>\n",
       "</table>\n",
       "</div>"
      ],
      "text/plain": [
       "       pos.x     pos.y     pos.z   heading  velocity  weather    Minute sin  \\\n",
       "0 -77.030670 -1.283448  0.294200 -1.568362  7.056001        2 -1.792514e-08   \n",
       "1 -77.030670 -1.283448  0.061311 -1.568362  7.172558        2  1.045284e-01   \n",
       "2 -77.029778 -1.283539 -0.030319 -1.568443  1.053028        2  2.079117e-01   \n",
       "3 -77.028854 -1.283728 -0.023681 -1.568593  0.883579        2  3.090170e-01   \n",
       "4 -77.008575 -1.288779  0.003869 -1.572756  1.548891        2  4.067366e-01   \n",
       "\n",
       "   Minute cos           Date Time  \n",
       "0    1.000000 2009-01-01 00:00:00  \n",
       "1    0.994522 2009-01-01 00:00:01  \n",
       "2    0.978148 2009-01-01 00:00:02  \n",
       "3    0.951057 2009-01-01 00:00:03  \n",
       "4    0.913545 2009-01-01 00:00:04  "
      ]
     },
     "execution_count": 10,
     "metadata": {},
     "output_type": "execute_result"
    }
   ],
   "source": [
    "temp_data.head()"
   ]
  },
  {
   "cell_type": "code",
   "execution_count": 11,
   "metadata": {},
   "outputs": [],
   "source": [
    "date_time = pd.to_datetime(data.pop('Date Time'), format='%d.%m.%Y %H:%M:%S')\n",
    "timestamp_s = date_time.map(pd.Timestamp.timestamp)\n",
    "minute = 60\n",
    "data['Minute sin'] = np.sin(timestamp_s * (2 * np.pi / minute))\n",
    "data['Minute cos'] = np.cos(timestamp_s * (2 * np.pi / minute))"
   ]
  },
  {
   "cell_type": "code",
   "execution_count": 12,
   "metadata": {},
   "outputs": [
    {
     "name": "stdout",
     "output_type": "stream",
     "text": [
      "<class 'pandas.core.frame.DataFrame'>\n",
      "RangeIndex: 4597200 entries, 0 to 4597199\n",
      "Data columns (total 8 columns):\n",
      " #   Column      Dtype  \n",
      "---  ------      -----  \n",
      " 0   pos.x       float64\n",
      " 1   pos.y       float64\n",
      " 2   pos.z       float64\n",
      " 3   heading     float64\n",
      " 4   velocity    float64\n",
      " 5   weather     int64  \n",
      " 6   Minute sin  float64\n",
      " 7   Minute cos  float64\n",
      "dtypes: float64(7), int64(1)\n",
      "memory usage: 280.6 MB\n"
     ]
    }
   ],
   "source": [
    "data.info()"
   ]
  },
  {
   "cell_type": "code",
   "execution_count": 13,
   "metadata": {},
   "outputs": [
    {
     "data": {
      "text/html": [
       "<div>\n",
       "<style scoped>\n",
       "    .dataframe tbody tr th:only-of-type {\n",
       "        vertical-align: middle;\n",
       "    }\n",
       "\n",
       "    .dataframe tbody tr th {\n",
       "        vertical-align: top;\n",
       "    }\n",
       "\n",
       "    .dataframe thead th {\n",
       "        text-align: right;\n",
       "    }\n",
       "</style>\n",
       "<table border=\"1\" class=\"dataframe\">\n",
       "  <thead>\n",
       "    <tr style=\"text-align: right;\">\n",
       "      <th></th>\n",
       "      <th>pos.x</th>\n",
       "      <th>pos.y</th>\n",
       "      <th>pos.z</th>\n",
       "      <th>heading</th>\n",
       "      <th>velocity</th>\n",
       "      <th>weather</th>\n",
       "      <th>Minute sin</th>\n",
       "      <th>Minute cos</th>\n",
       "    </tr>\n",
       "  </thead>\n",
       "  <tbody>\n",
       "    <tr>\n",
       "      <th>0</th>\n",
       "      <td>-77.030670</td>\n",
       "      <td>-1.283448</td>\n",
       "      <td>0.294200</td>\n",
       "      <td>-1.568362</td>\n",
       "      <td>7.056001</td>\n",
       "      <td>2</td>\n",
       "      <td>-1.792514e-08</td>\n",
       "      <td>1.000000</td>\n",
       "    </tr>\n",
       "    <tr>\n",
       "      <th>1</th>\n",
       "      <td>-77.030670</td>\n",
       "      <td>-1.283448</td>\n",
       "      <td>0.061311</td>\n",
       "      <td>-1.568362</td>\n",
       "      <td>7.172558</td>\n",
       "      <td>2</td>\n",
       "      <td>1.045284e-01</td>\n",
       "      <td>0.994522</td>\n",
       "    </tr>\n",
       "    <tr>\n",
       "      <th>2</th>\n",
       "      <td>-77.029778</td>\n",
       "      <td>-1.283539</td>\n",
       "      <td>-0.030319</td>\n",
       "      <td>-1.568443</td>\n",
       "      <td>1.053028</td>\n",
       "      <td>2</td>\n",
       "      <td>2.079117e-01</td>\n",
       "      <td>0.978148</td>\n",
       "    </tr>\n",
       "    <tr>\n",
       "      <th>3</th>\n",
       "      <td>-77.028854</td>\n",
       "      <td>-1.283728</td>\n",
       "      <td>-0.023681</td>\n",
       "      <td>-1.568593</td>\n",
       "      <td>0.883579</td>\n",
       "      <td>2</td>\n",
       "      <td>3.090170e-01</td>\n",
       "      <td>0.951057</td>\n",
       "    </tr>\n",
       "    <tr>\n",
       "      <th>4</th>\n",
       "      <td>-77.008575</td>\n",
       "      <td>-1.288779</td>\n",
       "      <td>0.003869</td>\n",
       "      <td>-1.572756</td>\n",
       "      <td>1.548891</td>\n",
       "      <td>2</td>\n",
       "      <td>4.067366e-01</td>\n",
       "      <td>0.913545</td>\n",
       "    </tr>\n",
       "  </tbody>\n",
       "</table>\n",
       "</div>"
      ],
      "text/plain": [
       "       pos.x     pos.y     pos.z   heading  velocity  weather    Minute sin  \\\n",
       "0 -77.030670 -1.283448  0.294200 -1.568362  7.056001        2 -1.792514e-08   \n",
       "1 -77.030670 -1.283448  0.061311 -1.568362  7.172558        2  1.045284e-01   \n",
       "2 -77.029778 -1.283539 -0.030319 -1.568443  1.053028        2  2.079117e-01   \n",
       "3 -77.028854 -1.283728 -0.023681 -1.568593  0.883579        2  3.090170e-01   \n",
       "4 -77.008575 -1.288779  0.003869 -1.572756  1.548891        2  4.067366e-01   \n",
       "\n",
       "   Minute cos  \n",
       "0    1.000000  \n",
       "1    0.994522  \n",
       "2    0.978148  \n",
       "3    0.951057  \n",
       "4    0.913545  "
      ]
     },
     "execution_count": 13,
     "metadata": {},
     "output_type": "execute_result"
    }
   ],
   "source": [
    "data.head()"
   ]
  },
  {
   "cell_type": "markdown",
   "metadata": {},
   "source": [
    "### Windowing\n",
    "We choose a window of 60 time steps\n",
    "We want to learn 48 steps and predict 12 steps."
   ]
  },
  {
   "cell_type": "code",
   "execution_count": 14,
   "metadata": {},
   "outputs": [],
   "source": [
    "window_size = 60\n",
    "grouped_data = windowing_array(data, window_size)"
   ]
  },
  {
   "cell_type": "code",
   "execution_count": 15,
   "metadata": {},
   "outputs": [
    {
     "name": "stdout",
     "output_type": "stream",
     "text": [
      "76620\n",
      "60\n",
      "8\n"
     ]
    }
   ],
   "source": [
    "print(len(grouped_data))\n",
    "print(len(grouped_data[0]))\n",
    "print(len(grouped_data[0][0]))"
   ]
  },
  {
   "cell_type": "markdown",
   "metadata": {},
   "source": [
    "### Slice and Split sequence "
   ]
  },
  {
   "cell_type": "code",
   "execution_count": 16,
   "metadata": {},
   "outputs": [],
   "source": [
    "x_train_init, x_test_init = train_test_split(grouped_data, shuffle=False, test_size=0.2)"
   ]
  },
  {
   "cell_type": "code",
   "execution_count": 17,
   "metadata": {},
   "outputs": [
    {
     "data": {
      "text/plain": [
       "((61296, 60, 8), (15324, 60, 8))"
      ]
     },
     "execution_count": 17,
     "metadata": {},
     "output_type": "execute_result"
    }
   ],
   "source": [
    "x_train_init.shape, x_test_init.shape"
   ]
  },
  {
   "cell_type": "code",
   "execution_count": 18,
   "metadata": {},
   "outputs": [],
   "source": [
    "## slipt x_train_init to x_train, y_train, y_train_shifted_by_one\n",
    "\n",
    "x_train, y_train, y_train_shifted_by_one = split_sequence_long(x_train_init)"
   ]
  },
  {
   "cell_type": "code",
   "execution_count": 19,
   "metadata": {},
   "outputs": [
    {
     "data": {
      "text/plain": [
       "((61296, 48, 8), (61296, 12, 8))"
      ]
     },
     "execution_count": 19,
     "metadata": {},
     "output_type": "execute_result"
    }
   ],
   "source": [
    "x_train.shape, y_train.shape"
   ]
  },
  {
   "cell_type": "code",
   "execution_count": 20,
   "metadata": {},
   "outputs": [
    {
     "data": {
      "text/plain": [
       "(61296, 48, 8)"
      ]
     },
     "execution_count": 20,
     "metadata": {},
     "output_type": "execute_result"
    }
   ],
   "source": [
    "x_train.shape[0], x_train.shape[1], x_train.shape[2]"
   ]
  },
  {
   "cell_type": "code",
   "execution_count": 21,
   "metadata": {},
   "outputs": [],
   "source": [
    "## First Let's start with predict only one input\n",
    "#y_train = y_train[:,:,:1]\n",
    "\n",
    "## Now let's try to predict two inputs (posx and posy)\n",
    "y_train = y_train[:,:,:2]"
   ]
  },
  {
   "cell_type": "code",
   "execution_count": 22,
   "metadata": {},
   "outputs": [
    {
     "data": {
      "text/plain": [
       "(61296, 12, 2)"
      ]
     },
     "execution_count": 22,
     "metadata": {},
     "output_type": "execute_result"
    }
   ],
   "source": [
    "y_train.shape"
   ]
  },
  {
   "cell_type": "code",
   "execution_count": 23,
   "metadata": {},
   "outputs": [],
   "source": [
    "## slipt x_test_init to y_test, y_test_shift_by_one, y_test\n",
    "x_test, y_test, y_test_shifted_by_one = split_sequence_long(x_test_init)"
   ]
  },
  {
   "cell_type": "code",
   "execution_count": 24,
   "metadata": {},
   "outputs": [
    {
     "data": {
      "text/plain": [
       "((15324, 48, 8), (15324, 12, 8))"
      ]
     },
     "execution_count": 24,
     "metadata": {},
     "output_type": "execute_result"
    }
   ],
   "source": [
    "x_test.shape, y_test.shape"
   ]
  },
  {
   "cell_type": "code",
   "execution_count": 25,
   "metadata": {},
   "outputs": [],
   "source": [
    "## First Let's start with predict only one input\n",
    "#y_test = y_test[:,:,:1]\n",
    "\n",
    "## Now let's try to predict two inputs (posx and posy)\n",
    "y_test = y_test[:,:,:2]"
   ]
  },
  {
   "cell_type": "code",
   "execution_count": 26,
   "metadata": {},
   "outputs": [
    {
     "data": {
      "text/plain": [
       "(15324, 12, 2)"
      ]
     },
     "execution_count": 26,
     "metadata": {},
     "output_type": "execute_result"
    }
   ],
   "source": [
    "y_test.shape"
   ]
  },
  {
   "cell_type": "code",
   "execution_count": 51,
   "metadata": {},
   "outputs": [
    {
     "data": {
      "text/plain": [
       "(48, 8)"
      ]
     },
     "execution_count": 51,
     "metadata": {},
     "output_type": "execute_result"
    }
   ],
   "source": [
    "y = x_test[100]\n",
    "y.shape"
   ]
  },
  {
   "cell_type": "code",
   "execution_count": 52,
   "metadata": {},
   "outputs": [
    {
     "data": {
      "text/plain": [
       "array([[-1.74380478e+02,  1.38778503e+02,  3.63910682e-02,\n",
       "         2.03316423e+00,  2.84788703e+01,  0.00000000e+00,\n",
       "        -1.13481336e-08,  1.00000000e+00],\n",
       "       [-1.75081146e+02,  1.38408676e+02,  3.63602452e-02,\n",
       "         2.05624878e+00,  2.85647474e+01,  0.00000000e+00,\n",
       "         1.04528455e-01,  9.94521896e-01],\n",
       "       [-1.75768967e+02,  1.38016068e+02,  3.64127718e-02,\n",
       "         2.08465912e+00,  2.84874103e+01,  0.00000000e+00,\n",
       "         2.07911685e-01,  9.78147602e-01],\n",
       "       [-1.76443207e+02,  1.37602615e+02,  3.64324562e-02,\n",
       "         2.11607270e+00,  2.84873952e+01,  0.00000000e+00,\n",
       "         3.09016978e-01,  9.51056522e-01],\n",
       "       [-1.77110443e+02,  1.37177582e+02,  3.64315026e-02,\n",
       "         2.13818653e+00,  2.84843674e+01,  0.00000000e+00,\n",
       "         4.06736630e-01,  9.13545464e-01],\n",
       "       [-1.77772598e+02,  1.36744934e+02,  3.64316925e-02,\n",
       "         2.15155772e+00,  2.84697138e+01,  0.00000000e+00,\n",
       "         4.99999990e-01,  8.66025410e-01],\n",
       "       [-1.78419937e+02,  1.36294785e+02,  3.64837646e-02,\n",
       "         2.17353492e+00,  2.83305813e+01,  0.00000000e+00,\n",
       "         5.87785245e-01,  8.09017000e-01],\n",
       "       [-1.79051285e+02,  1.35825760e+02,  3.64781171e-02,\n",
       "         2.20307604e+00,  2.83326096e+01,  0.00000000e+00,\n",
       "         6.69130602e-01,  7.43144829e-01],\n",
       "       [-1.79675446e+02,  1.35345200e+02,  3.64287570e-02,\n",
       "         2.22549959e+00,  2.83942832e+01,  0.00000000e+00,\n",
       "         7.43144814e-01,  6.69130620e-01],\n",
       "       [-1.80283203e+02,  1.34844101e+02,  3.64387110e-02,\n",
       "         2.25435015e+00,  2.83519572e+01,  0.00000000e+00,\n",
       "         8.09016986e-01,  5.87785264e-01],\n",
       "       [-1.80875031e+02,  1.34323090e+02,  3.64060961e-02,\n",
       "         2.28687827e+00,  2.84414102e+01,  0.00000000e+00,\n",
       "         8.66025398e-01,  5.00000010e-01],\n",
       "       [-1.81459747e+02,  1.33789703e+02,  3.63638289e-02,\n",
       "         2.31006241e+00,  2.85395921e+01,  0.00000000e+00,\n",
       "         9.13545454e-01,  4.06736651e-01],\n",
       "       [-1.82026535e+02,  1.33237122e+02,  3.64045724e-02,\n",
       "         2.33857608e+00,  2.84824280e+01,  0.00000000e+00,\n",
       "         9.51056514e-01,  3.09017000e-01],\n",
       "       [-1.82575348e+02,  1.32667343e+02,  3.64167392e-02,\n",
       "         2.37008021e+00,  2.85035861e+01,  0.00000000e+00,\n",
       "         9.78147597e-01,  2.07911709e-01],\n",
       "       [-1.83114807e+02,  1.32087753e+02,  3.64144519e-02,\n",
       "         2.39225689e+00,  2.85138264e+01,  0.00000000e+00,\n",
       "         9.94521894e-01,  1.04528478e-01],\n",
       "       [-1.83647491e+02,  1.31501907e+02,  3.64203639e-02,\n",
       "         2.40567016e+00,  2.85000462e+01,  0.00000000e+00,\n",
       "         1.00000000e+00,  1.23402272e-08],\n",
       "       [-1.84161362e+02,  1.30902969e+02,  3.64817418e-02,\n",
       "         2.42766574e+00,  2.83506424e+01,  0.00000000e+00,\n",
       "         9.94521896e-01, -1.04528454e-01],\n",
       "       [-1.84654724e+02,  1.30290100e+02,  3.64857875e-02,\n",
       "         2.45720845e+00,  2.83351036e+01,  0.00000000e+00,\n",
       "         9.78147602e-01, -2.07911684e-01],\n",
       "       [-1.85137909e+02,  1.29668213e+02,  3.64422984e-02,\n",
       "         2.47964159e+00,  2.83796859e+01,  0.00000000e+00,\n",
       "         9.51056517e-01, -3.09016991e-01],\n",
       "       [-1.85599777e+02,  1.29030869e+02,  3.64524089e-02,\n",
       "         2.50848802e+00,  2.83276813e+01,  0.00000000e+00,\n",
       "         9.13545464e-01, -4.06736629e-01],\n",
       "       [-1.86041168e+02,  1.28378403e+02,  3.64152156e-02,\n",
       "         2.54100096e+00,  2.84169915e+01,  0.00000000e+00,\n",
       "         8.66025410e-01, -4.99999989e-01],\n",
       "       [-1.86472672e+02,  1.27715584e+02,  3.63648608e-02,\n",
       "         2.56419669e+00,  2.85243454e+01,  0.00000000e+00,\n",
       "         8.09017000e-01, -5.87785244e-01],\n",
       "       [-1.86882156e+02,  1.27038399e+02,  3.63981985e-02,\n",
       "         2.59273925e+00,  2.84812278e+01,  0.00000000e+00,\n",
       "         7.43144830e-01, -6.69130601e-01],\n",
       "       [-1.87270187e+02,  1.26348770e+02,  3.64056006e-02,\n",
       "         2.62425390e+00,  2.85160871e+01,  0.00000000e+00,\n",
       "         6.69130609e-01, -7.43144823e-01],\n",
       "       [-1.87646790e+02,  1.25651726e+02,  3.64034250e-02,\n",
       "         2.64644989e+00,  2.85341272e+01,  0.00000000e+00,\n",
       "         5.87785265e-01, -8.09016985e-01],\n",
       "       [-1.88015289e+02,  1.24950272e+02,  3.64131145e-02,\n",
       "         2.65987928e+00,  2.85197106e+01,  0.00000000e+00,\n",
       "         5.00000011e-01, -8.66025397e-01],\n",
       "       [-1.88362244e+02,  1.24240990e+02,  3.64812464e-02,\n",
       "         2.68187246e+00,  2.83627352e+01,  0.00000000e+00,\n",
       "         4.06736652e-01, -9.13545454e-01],\n",
       "       [-1.88685715e+02,  1.23523643e+02,  3.64915468e-02,\n",
       "         2.71139772e+00,  2.83350257e+01,  0.00000000e+00,\n",
       "         3.09017001e-01, -9.51056514e-01],\n",
       "       [-1.88996933e+02,  1.22800415e+02,  3.64517197e-02,\n",
       "         2.73382900e+00,  2.83684312e+01,  0.00000000e+00,\n",
       "         2.07911695e-01, -9.78147600e-01],\n",
       "       [-1.89283569e+02,  1.22067810e+02,  3.64614092e-02,\n",
       "         2.76266651e+00,  2.83108884e+01,  0.00000000e+00,\n",
       "         1.04528479e-01, -9.94521894e-01],\n",
       "       [-1.89546600e+02,  1.21325737e+02,  3.64202857e-02,\n",
       "         2.79515494e+00,  2.84011100e+01,  0.00000000e+00,\n",
       "         1.33323208e-08, -1.00000000e+00],\n",
       "       [-1.89797455e+02,  1.20576035e+02,  3.63649353e-02,\n",
       "         2.81835467e+00,  2.85153229e+01,  0.00000000e+00,\n",
       "        -1.04528453e-01, -9.94521896e-01],\n",
       "       [-1.90023499e+02,  1.19817734e+02,  3.63931283e-02,\n",
       "         2.84690789e+00,  2.84819519e+01,  0.00000000e+00,\n",
       "        -2.07911683e-01, -9.78147602e-01],\n",
       "       [-1.90225677e+02,  1.19052513e+02,  3.63980085e-02,\n",
       "         2.87842134e+00,  2.85256407e+01,  0.00000000e+00,\n",
       "        -3.09016990e-01, -9.51056518e-01],\n",
       "       [-1.90414993e+02,  1.18282837e+02,  3.63960266e-02,\n",
       "         2.90062198e+00,  2.85481441e+01,  0.00000000e+00,\n",
       "        -4.06736628e-01, -9.13545464e-01],\n",
       "       [-1.90579163e+02,  1.17509247e+02,  3.64578627e-02,\n",
       "         2.92795094e+00,  2.84282492e+01,  0.00000000e+00,\n",
       "        -4.99999988e-01, -8.66025411e-01],\n",
       "       [-1.90719696e+02,  1.16732994e+02,  3.64715569e-02,\n",
       "         2.95794599e+00,  2.84051310e+01,  0.00000000e+00,\n",
       "        -5.87785244e-01, -8.09017001e-01],\n",
       "       [-1.90847488e+02,  1.15954483e+02,  3.64513397e-02,\n",
       "         2.97899309e+00,  2.84112490e+01,  0.00000000e+00,\n",
       "        -6.69130601e-01, -7.43144831e-01],\n",
       "       [-1.90966751e+02,  1.15174072e+02,  3.64257060e-02,\n",
       "         2.99170822e+00,  2.84328275e+01,  0.00000000e+00,\n",
       "        -7.43144822e-01, -6.69130610e-01],\n",
       "       [-1.91063721e+02,  1.14391876e+02,  3.64552289e-02,\n",
       "         3.01321018e+00,  2.83421816e+01,  0.00000000e+00,\n",
       "        -8.09016984e-01, -5.87785266e-01],\n",
       "       [-1.91137177e+02,  1.13607758e+02,  3.64376456e-02,\n",
       "         3.04179628e+00,  2.83863332e+01,  0.00000000e+00,\n",
       "        -8.66025397e-01, -5.00000012e-01],\n",
       "       [-1.91198624e+02,  1.12820595e+02,  3.63933183e-02,\n",
       "         3.06272926e+00,  2.84643736e+01,  0.00000000e+00,\n",
       "        -9.13545453e-01, -4.06736653e-01],\n",
       "       [-1.91252167e+02,  1.12030663e+02,  3.63650881e-02,\n",
       "         3.07536317e+00,  2.85319286e+01,  0.00000000e+00,\n",
       "        -9.51056514e-01, -3.09017002e-01],\n",
       "       [-1.91300568e+02,  1.11239014e+02,  3.63632962e-02,\n",
       "         3.08232893e+00,  2.85636616e+01,  0.00000000e+00,\n",
       "        -9.78147600e-01, -2.07911696e-01],\n",
       "       [-1.91345657e+02,  1.10446991e+02,  3.63843143e-02,\n",
       "         3.08604151e+00,  2.85506002e+01,  0.00000000e+00,\n",
       "        -9.94521894e-01, -1.04528480e-01],\n",
       "       [-1.91379623e+02,  1.09655884e+02,  3.64279933e-02,\n",
       "         3.09578069e+00,  2.84752222e+01,  0.00000000e+00,\n",
       "        -1.00000000e+00, -1.43244143e-08],\n",
       "       [-1.91404175e+02,  1.08866264e+02,  3.64528634e-02,\n",
       "         3.10786518e+00,  2.84190451e+01,  0.00000000e+00,\n",
       "        -9.94521897e-01,  1.04528452e-01],\n",
       "       [-1.91424286e+02,  1.08077744e+02,  3.64561081e-02,\n",
       "         3.11591539e+00,  2.83823563e+01,  0.00000000e+00,\n",
       "        -9.78147603e-01,  2.07911683e-01]])"
      ]
     },
     "execution_count": 52,
     "metadata": {},
     "output_type": "execute_result"
    }
   ],
   "source": [
    "y"
   ]
  },
  {
   "cell_type": "code",
   "execution_count": 54,
   "metadata": {},
   "outputs": [
    {
     "data": {
      "text/plain": [
       "array([[-174.38047791],\n",
       "       [-175.08114624],\n",
       "       [-175.76896667],\n",
       "       [-176.44320679],\n",
       "       [-177.11044312],\n",
       "       [-177.77259827],\n",
       "       [-178.41993713],\n",
       "       [-179.05128479],\n",
       "       [-179.67544556],\n",
       "       [-180.28320312],\n",
       "       [-180.87503052],\n",
       "       [-181.45974731],\n",
       "       [-182.02653503],\n",
       "       [-182.5753479 ],\n",
       "       [-183.11480713],\n",
       "       [-183.64749146],\n",
       "       [-184.16136169],\n",
       "       [-184.65472412],\n",
       "       [-185.13790894],\n",
       "       [-185.59977722],\n",
       "       [-186.04116821],\n",
       "       [-186.47267151],\n",
       "       [-186.88215637],\n",
       "       [-187.27018738],\n",
       "       [-187.64678955],\n",
       "       [-188.01528931],\n",
       "       [-188.36224365],\n",
       "       [-188.68571472],\n",
       "       [-188.99693298],\n",
       "       [-189.28356934],\n",
       "       [-189.54660034],\n",
       "       [-189.79745483],\n",
       "       [-190.02349854],\n",
       "       [-190.22567749],\n",
       "       [-190.41499329],\n",
       "       [-190.5791626 ],\n",
       "       [-190.71969604],\n",
       "       [-190.8474884 ],\n",
       "       [-190.9667511 ],\n",
       "       [-191.0637207 ],\n",
       "       [-191.13717651],\n",
       "       [-191.19862366],\n",
       "       [-191.25216675],\n",
       "       [-191.30056763],\n",
       "       [-191.34565735],\n",
       "       [-191.37962341],\n",
       "       [-191.4041748 ],\n",
       "       [-191.42428589]])"
      ]
     },
     "execution_count": 54,
     "metadata": {},
     "output_type": "execute_result"
    }
   ],
   "source": [
    "pos_x = y[:, :1]\n",
    "pos_x"
   ]
  },
  {
   "cell_type": "code",
   "execution_count": 56,
   "metadata": {},
   "outputs": [
    {
     "data": {
      "text/plain": [
       "array([[138.77850342],\n",
       "       [138.40867615],\n",
       "       [138.0160675 ],\n",
       "       [137.60261536],\n",
       "       [137.17758179],\n",
       "       [136.74493408],\n",
       "       [136.29478455],\n",
       "       [135.82575989],\n",
       "       [135.34519958],\n",
       "       [134.84410095],\n",
       "       [134.3230896 ],\n",
       "       [133.78970337],\n",
       "       [133.23712158],\n",
       "       [132.66734314],\n",
       "       [132.0877533 ],\n",
       "       [131.50190735],\n",
       "       [130.90296936],\n",
       "       [130.2901001 ],\n",
       "       [129.66821289],\n",
       "       [129.03086853],\n",
       "       [128.37840271],\n",
       "       [127.7155838 ],\n",
       "       [127.03839874],\n",
       "       [126.34877014],\n",
       "       [125.65172577],\n",
       "       [124.95027161],\n",
       "       [124.24098969],\n",
       "       [123.52364349],\n",
       "       [122.80041504],\n",
       "       [122.06781006],\n",
       "       [121.325737  ],\n",
       "       [120.57603455],\n",
       "       [119.81773376],\n",
       "       [119.05251312],\n",
       "       [118.28283691],\n",
       "       [117.50924683],\n",
       "       [116.73299408],\n",
       "       [115.95448303],\n",
       "       [115.17407227],\n",
       "       [114.39187622],\n",
       "       [113.60775757],\n",
       "       [112.82059479],\n",
       "       [112.03066254],\n",
       "       [111.23901367],\n",
       "       [110.44699097],\n",
       "       [109.65588379],\n",
       "       [108.86626434],\n",
       "       [108.07774353]])"
      ]
     },
     "execution_count": 56,
     "metadata": {},
     "output_type": "execute_result"
    }
   ],
   "source": [
    "pos_y = y[:, 1:2]\n",
    "pos_y"
   ]
  },
  {
   "cell_type": "code",
   "execution_count": 58,
   "metadata": {},
   "outputs": [],
   "source": [
    "import numpy as np\n",
    "import matplotlib.pyplot as plt\n",
    "\n",
    "def plot_pos(pos_x, pos_y):\n",
    "\n",
    "    # Convert 2D arrays to 1D arrays\n",
    "    pos_x = np.squeeze(pos_x)\n",
    "    pos_y = np.squeeze(pos_y)\n",
    "\n",
    "    # Print original arrays\n",
    "    print(\"Original pos.x:\", pos_x)\n",
    "    print(\"Original pos.y:\", pos_y)\n",
    "    \n",
    "    # Plot original pos.x and pos.y\n",
    "    plt.figure(figsize=(10, 5))\n",
    "    plt.subplot(2, 1, 1)\n",
    "    plt.plot(pos_x, pos_y, label='(pos.x, pos.y)')\n",
    "    plt.title('Original pos.x')\n",
    "    plt.legend()\n",
    "    \n",
    "    # Shuffle pos.x\n",
    "    pos_x_shuffled = np.random.permutation(pos_x)\n",
    "    \n",
    "    # Print shuffled pos.x\n",
    "    print(\"Shuffled pos.x:\", pos_x_shuffled)\n",
    "    \n",
    "    # Plot shuffled pos.x and pos.y\n",
    "    plt.subplot(2, 1, 2)\n",
    "    plt.plot(pos_x_shuffled, pos_y, label='(pos.x, pos.y)')\n",
    "    plt.title('Shuffled pos.x')\n",
    "    plt.legend()\n",
    "    \n",
    "    plt.tight_layout()\n",
    "    plt.show()"
   ]
  },
  {
   "cell_type": "code",
   "execution_count": 59,
   "metadata": {},
   "outputs": [
    {
     "name": "stdout",
     "output_type": "stream",
     "text": [
      "Original pos.x: [-174.38047791 -175.08114624 -175.76896667 -176.44320679 -177.11044312\n",
      " -177.77259827 -178.41993713 -179.05128479 -179.67544556 -180.28320312\n",
      " -180.87503052 -181.45974731 -182.02653503 -182.5753479  -183.11480713\n",
      " -183.64749146 -184.16136169 -184.65472412 -185.13790894 -185.59977722\n",
      " -186.04116821 -186.47267151 -186.88215637 -187.27018738 -187.64678955\n",
      " -188.01528931 -188.36224365 -188.68571472 -188.99693298 -189.28356934\n",
      " -189.54660034 -189.79745483 -190.02349854 -190.22567749 -190.41499329\n",
      " -190.5791626  -190.71969604 -190.8474884  -190.9667511  -191.0637207\n",
      " -191.13717651 -191.19862366 -191.25216675 -191.30056763 -191.34565735\n",
      " -191.37962341 -191.4041748  -191.42428589]\n",
      "Original pos.y: [138.77850342 138.40867615 138.0160675  137.60261536 137.17758179\n",
      " 136.74493408 136.29478455 135.82575989 135.34519958 134.84410095\n",
      " 134.3230896  133.78970337 133.23712158 132.66734314 132.0877533\n",
      " 131.50190735 130.90296936 130.2901001  129.66821289 129.03086853\n",
      " 128.37840271 127.7155838  127.03839874 126.34877014 125.65172577\n",
      " 124.95027161 124.24098969 123.52364349 122.80041504 122.06781006\n",
      " 121.325737   120.57603455 119.81773376 119.05251312 118.28283691\n",
      " 117.50924683 116.73299408 115.95448303 115.17407227 114.39187622\n",
      " 113.60775757 112.82059479 112.03066254 111.23901367 110.44699097\n",
      " 109.65588379 108.86626434 108.07774353]\n",
      "Shuffled pos.x: [-179.67544556 -187.64678955 -175.08114624 -176.44320679 -183.64749146\n",
      " -181.45974731 -190.02349854 -190.5791626  -188.68571472 -180.87503052\n",
      " -191.42428589 -190.71969604 -190.8474884  -191.25216675 -186.04116821\n",
      " -184.16136169 -190.41499329 -186.47267151 -178.41993713 -184.65472412\n",
      " -177.11044312 -191.4041748  -186.88215637 -189.28356934 -174.38047791\n",
      " -188.01528931 -182.5753479  -185.13790894 -191.13717651 -188.99693298\n",
      " -183.11480713 -191.30056763 -189.54660034 -191.0637207  -191.19862366\n",
      " -185.59977722 -191.37962341 -191.34565735 -189.79745483 -179.05128479\n",
      " -188.36224365 -190.9667511  -180.28320312 -177.77259827 -190.22567749\n",
      " -175.76896667 -182.02653503 -187.27018738]\n"
     ]
    },
    {
     "data": {
      "image/png": "[encoded data removed]",
      "text/plain": [
       "<Figure size 1000x500 with 2 Axes>"
      ]
     },
     "metadata": {},
     "output_type": "display_data"
    }
   ],
   "source": [
    "plot_pos(pos_x, pos_y)"
   ]
  },
  {
   "cell_type": "markdown",
   "metadata": {},
   "source": [
    "## Display correlation"
   ]
  },
  {
   "cell_type": "code",
   "execution_count": 61,
   "metadata": {},
   "outputs": [
    {
     "data": {
      "image/png": "[encoded data removed]",
      "text/plain": [
       "<Figure size 640x480 with 2 Axes>"
      ]
     },
     "metadata": {},
     "output_type": "display_data"
    }
   ],
   "source": [
    "# import modules \n",
    "import matplotlib.pyplot as mp \n",
    "import pandas as pd \n",
    "import seaborn as sb \n",
    "\n",
    "\n",
    "# plotting correlation heatmap \n",
    "dataplot=sb.heatmap(csv_input.corr()) \n",
    "\n",
    "# displaying heatmap \n",
    "mp.show()"
   ]
  },
  {
   "cell_type": "code",
   "execution_count": 62,
   "metadata": {},
   "outputs": [
    {
     "data": {
      "image/png": "[encoded data removed]",
      "text/plain": [
       "<Figure size 1200x800 with 2 Axes>"
      ]
     },
     "metadata": {},
     "output_type": "display_data"
    }
   ],
   "source": [
    "from scipy.cluster import hierarchy\n",
    "from scipy.spatial.distance import squareform\n",
    "from scipy.stats import spearmanr\n",
    "\n",
    "fig, (ax1, ax2) = plt.subplots(1, 2, figsize=(12, 8))\n",
    "corr = spearmanr(csv_input).correlation\n",
    "\n",
    "# Ensure the correlation matrix is symmetric\n",
    "corr = (corr + corr.T) / 2\n",
    "np.fill_diagonal(corr, 1)\n",
    "\n",
    "# We convert the correlation matrix to a distance matrix before performing\n",
    "# hierarchical clustering using Ward's linkage.\n",
    "distance_matrix = 1 - np.abs(corr)\n",
    "dist_linkage = hierarchy.ward(squareform(distance_matrix))\n",
    "dendro = hierarchy.dendrogram(\n",
    "    dist_linkage, labels=csv_input.columns.to_list(), ax=ax1, leaf_rotation=90\n",
    ")\n",
    "dendro_idx = np.arange(0, len(dendro[\"ivl\"]))\n",
    "\n",
    "ax2.imshow(corr[dendro[\"leaves\"], :][:, dendro[\"leaves\"]])\n",
    "ax2.set_xticks(dendro_idx)\n",
    "ax2.set_yticks(dendro_idx)\n",
    "ax2.set_xticklabels(dendro[\"ivl\"], rotation=\"vertical\")\n",
    "ax2.set_yticklabels(dendro[\"ivl\"])\n",
    "_ = fig.tight_layout()"
   ]
  },
  {
   "cell_type": "code",
   "execution_count": 63,
   "metadata": {},
   "outputs": [
    {
     "name": "stdout",
     "output_type": "stream",
     "text": [
      "Perturbation values:\n",
      "{0: array([0.77938837, 0.3847716 , 0.76979168]), 1: array([-0.46412877,  0.49393656, -0.78722456]), 2: array([0.33848228, 0.55701559, 0.33848228])}\n"
     ]
    }
   ],
   "source": [
    "import numpy as np\n",
    "from scipy.stats import pearsonr\n",
    "\n",
    "def generate_perturbations(time_series_matrix):\n",
    "    # Step 1: Compute correlation matrix\n",
    "    correlation_matrix = np.corrcoef(np.transpose(time_series_matrix))\n",
    "    num_features = len(correlation_matrix)\n",
    "\n",
    "    # Step 2: Identify feature pairs with significant correlation coefficients\n",
    "    correlated_features = {}\n",
    "    for i in range(num_features):\n",
    "        for j in range(i + 1, num_features):\n",
    "            correlation = correlation_matrix[i, j]\n",
    "            if abs(correlation) > 0.5:  # Adjust threshold as needed\n",
    "                correlated_features[(i, j)] = correlation\n",
    "\n",
    "    # Step 3: Generate perturbation values\n",
    "    perturbation_values = {}\n",
    "    for feature_pair, correlation in correlated_features.items():\n",
    "        feature1, feature2 = feature_pair\n",
    "        perturbation_values[feature1] = np.random.normal(0, abs(correlation), size=len(time_series_matrix))\n",
    "        perturbation_values[feature2] = np.random.normal(0, abs(correlation), size=len(time_series_matrix))\n",
    "\n",
    "    # Step 4: Ensure perturbation values do not result in unrealistic data\n",
    "    for feature_index in range(num_features):\n",
    "        mean = np.mean(time_series_matrix[:, feature_index])\n",
    "        std = np.std(time_series_matrix[:, feature_index])\n",
    "        perturbation_values[feature_index] = np.clip(perturbation_values[feature_index], mean - 2 * std, mean + 2 * std)\n",
    "\n",
    "    return perturbation_values\n",
    "\n",
    "# Example usage\n",
    "time_series_matrix = np.array([[-1.74, 1.23, 3.5], [23.3, 4.5, 1.2], [3.4, 1.2, 4.4]])\n",
    "perturbation_values = generate_perturbations(time_series_matrix)\n",
    "print(\"Perturbation values:\")\n",
    "print(perturbation_values)\n"
   ]
  },
  {
   "cell_type": "code",
   "execution_count": 68,
   "metadata": {},
   "outputs": [
    {
     "name": "stdout",
     "output_type": "stream",
     "text": [
      "[[ -7.10988488  -5.78420078   5.50708823]\n",
      " [ 90.93956025  71.57464239 -45.8970881 ]\n",
      " [ 10.50555629   7.41912047  -2.99644839]]\n"
     ]
    }
   ],
   "source": [
    "import numpy as np\n",
    "\n",
    "def perturb_time_series(matrix):\n",
    "    # Calculate correlation matrix\n",
    "    corr_matrix = np.corrcoef(matrix, rowvar=False)\n",
    "    \n",
    "    # Initialize perturbation matrix\n",
    "    perturbed_matrix = np.copy(matrix)\n",
    "    \n",
    "    # Iterate over each feature\n",
    "    for i in range(matrix.shape[1]):\n",
    "        # Find indices of features with high correlation with feature i\n",
    "        correlated_features = np.where((np.abs(corr_matrix[i]) > 0.7) & (np.abs(corr_matrix[i]) < 1.0))[0]\n",
    "        \n",
    "        # Compute perturbation values based on correlation grade\n",
    "        for j in correlated_features:\n",
    "            if i != j:\n",
    "                perturbation_factor = corr_matrix[i, j]\n",
    "                perturbed_matrix[:, j] += perturbation_factor * perturbed_matrix[:, i]\n",
    "    \n",
    "    return perturbed_matrix\n",
    "\n",
    "# Example usage\n",
    "time_series_matrix = np.array([[-1.74, 1.23, 3.5], [23.3, 4.5, 1.2], [3.4, 1.2, 4.4]])\n",
    "perturbed_matrix = perturb_time_series(time_series_matrix)\n",
    "print(perturbed_matrix)\n"
   ]
  },
  {
   "cell_type": "code",
   "execution_count": 66,
   "metadata": {},
   "outputs": [
    {
     "data": {
      "text/plain": [
       "array([[ 1.        ,  0.97936939, -0.89077258],\n",
       "       [ 0.97936939,  1.        , -0.9642297 ],\n",
       "       [-0.89077258, -0.9642297 ,  1.        ]])"
      ]
     },
     "execution_count": 66,
     "metadata": {},
     "output_type": "execute_result"
    }
   ],
   "source": [
    "corr_matrix = np.corrcoef(time_series_matrix, rowvar=False)\n",
    "corr_matrix"
   ]
  },
  {
   "cell_type": "code",
   "execution_count": 78,
   "metadata": {},
   "outputs": [
    {
     "name": "stderr",
     "output_type": "stream",
     "text": [
      "/home/ab000840/.local/lib/python3.10/site-packages/numpy/lib/function_base.py:2897: RuntimeWarning: invalid value encountered in divide\n",
      "  c /= stddev[:, None]\n",
      "/home/ab000840/.local/lib/python3.10/site-packages/numpy/lib/function_base.py:2898: RuntimeWarning: invalid value encountered in divide\n",
      "  c /= stddev[None, :]\n"
     ]
    },
    {
     "data": {
      "text/plain": [
       "array([[ 1.        ,  0.93449719, -0.02466257, -0.97094508,  0.04093063,\n",
       "                nan,  0.62141107,  0.83997336],\n",
       "       [ 0.93449719,  1.        ,  0.02579737, -0.99127599, -0.02395521,\n",
       "                nan,  0.83895752,  0.61937884],\n",
       "       [-0.02466257,  0.02579737,  1.        , -0.01846874, -0.86960932,\n",
       "                nan,  0.10935382, -0.04962045],\n",
       "       [-0.97094508, -0.99127599, -0.01846874,  1.        ,  0.01132747,\n",
       "                nan, -0.78284027, -0.70985251],\n",
       "       [ 0.04093063, -0.02395521, -0.86960932,  0.01132747,  1.        ,\n",
       "                nan, -0.12224578,  0.08030885],\n",
       "       [        nan,         nan,         nan,         nan,         nan,\n",
       "                nan,         nan,         nan],\n",
       "       [ 0.62141107,  0.83895752,  0.10935382, -0.78284027, -0.12224578,\n",
       "                nan,  1.        ,  0.25316634],\n",
       "       [ 0.83997336,  0.61937884, -0.04962045, -0.70985251,  0.08030885,\n",
       "                nan,  0.25316634,  1.        ]])"
      ]
     },
     "execution_count": 78,
     "metadata": {},
     "output_type": "execute_result"
    }
   ],
   "source": [
    "corr_matrix_2 = np.corrcoef(y, rowvar=False)\n",
    "corr_matrix_2"
   ]
  },
  {
   "cell_type": "code",
   "execution_count": 69,
   "metadata": {},
   "outputs": [
    {
     "name": "stderr",
     "output_type": "stream",
     "text": [
      "/home/ab000840/.local/lib/python3.10/site-packages/numpy/lib/function_base.py:2897: RuntimeWarning: invalid value encountered in divide\n",
      "  c /= stddev[:, None]\n",
      "/home/ab000840/.local/lib/python3.10/site-packages/numpy/lib/function_base.py:2898: RuntimeWarning: invalid value encountered in divide\n",
      "  c /= stddev[None, :]\n"
     ]
    }
   ],
   "source": [
    "perturbed_matrix = perturb_time_series(y)"
   ]
  },
  {
   "cell_type": "code",
   "execution_count": 71,
   "metadata": {},
   "outputs": [
    {
     "data": {
      "text/plain": [
       "array([[-1.74380478e+02,  1.38778503e+02,  3.63910682e-02,\n",
       "         2.03316423e+00,  2.84788703e+01,  0.00000000e+00,\n",
       "        -1.13481336e-08,  1.00000000e+00],\n",
       "       [-1.75081146e+02,  1.38408676e+02,  3.63602452e-02,\n",
       "         2.05624878e+00,  2.85647474e+01,  0.00000000e+00,\n",
       "         1.04528455e-01,  9.94521896e-01],\n",
       "       [-1.75768967e+02,  1.38016068e+02,  3.64127718e-02,\n",
       "         2.08465912e+00,  2.84874103e+01,  0.00000000e+00,\n",
       "         2.07911685e-01,  9.78147602e-01],\n",
       "       [-1.76443207e+02,  1.37602615e+02,  3.64324562e-02,\n",
       "         2.11607270e+00,  2.84873952e+01,  0.00000000e+00,\n",
       "         3.09016978e-01,  9.51056522e-01],\n",
       "       [-1.77110443e+02,  1.37177582e+02,  3.64315026e-02,\n",
       "         2.13818653e+00,  2.84843674e+01,  0.00000000e+00,\n",
       "         4.06736630e-01,  9.13545464e-01],\n",
       "       [-1.77772598e+02,  1.36744934e+02,  3.64316925e-02,\n",
       "         2.15155772e+00,  2.84697138e+01,  0.00000000e+00,\n",
       "         4.99999990e-01,  8.66025410e-01],\n",
       "       [-1.78419937e+02,  1.36294785e+02,  3.64837646e-02,\n",
       "         2.17353492e+00,  2.83305813e+01,  0.00000000e+00,\n",
       "         5.87785245e-01,  8.09017000e-01],\n",
       "       [-1.79051285e+02,  1.35825760e+02,  3.64781171e-02,\n",
       "         2.20307604e+00,  2.83326096e+01,  0.00000000e+00,\n",
       "         6.69130602e-01,  7.43144829e-01],\n",
       "       [-1.79675446e+02,  1.35345200e+02,  3.64287570e-02,\n",
       "         2.22549959e+00,  2.83942832e+01,  0.00000000e+00,\n",
       "         7.43144814e-01,  6.69130620e-01],\n",
       "       [-1.80283203e+02,  1.34844101e+02,  3.64387110e-02,\n",
       "         2.25435015e+00,  2.83519572e+01,  0.00000000e+00,\n",
       "         8.09016986e-01,  5.87785264e-01],\n",
       "       [-1.80875031e+02,  1.34323090e+02,  3.64060961e-02,\n",
       "         2.28687827e+00,  2.84414102e+01,  0.00000000e+00,\n",
       "         8.66025398e-01,  5.00000010e-01],\n",
       "       [-1.81459747e+02,  1.33789703e+02,  3.63638289e-02,\n",
       "         2.31006241e+00,  2.85395921e+01,  0.00000000e+00,\n",
       "         9.13545454e-01,  4.06736651e-01],\n",
       "       [-1.82026535e+02,  1.33237122e+02,  3.64045724e-02,\n",
       "         2.33857608e+00,  2.84824280e+01,  0.00000000e+00,\n",
       "         9.51056514e-01,  3.09017000e-01],\n",
       "       [-1.82575348e+02,  1.32667343e+02,  3.64167392e-02,\n",
       "         2.37008021e+00,  2.85035861e+01,  0.00000000e+00,\n",
       "         9.78147597e-01,  2.07911709e-01],\n",
       "       [-1.83114807e+02,  1.32087753e+02,  3.64144519e-02,\n",
       "         2.39225689e+00,  2.85138264e+01,  0.00000000e+00,\n",
       "         9.94521894e-01,  1.04528478e-01],\n",
       "       [-1.83647491e+02,  1.31501907e+02,  3.64203639e-02,\n",
       "         2.40567016e+00,  2.85000462e+01,  0.00000000e+00,\n",
       "         1.00000000e+00,  1.23402272e-08],\n",
       "       [-1.84161362e+02,  1.30902969e+02,  3.64817418e-02,\n",
       "         2.42766574e+00,  2.83506424e+01,  0.00000000e+00,\n",
       "         9.94521896e-01, -1.04528454e-01],\n",
       "       [-1.84654724e+02,  1.30290100e+02,  3.64857875e-02,\n",
       "         2.45720845e+00,  2.83351036e+01,  0.00000000e+00,\n",
       "         9.78147602e-01, -2.07911684e-01],\n",
       "       [-1.85137909e+02,  1.29668213e+02,  3.64422984e-02,\n",
       "         2.47964159e+00,  2.83796859e+01,  0.00000000e+00,\n",
       "         9.51056517e-01, -3.09016991e-01],\n",
       "       [-1.85599777e+02,  1.29030869e+02,  3.64524089e-02,\n",
       "         2.50848802e+00,  2.83276813e+01,  0.00000000e+00,\n",
       "         9.13545464e-01, -4.06736629e-01],\n",
       "       [-1.86041168e+02,  1.28378403e+02,  3.64152156e-02,\n",
       "         2.54100096e+00,  2.84169915e+01,  0.00000000e+00,\n",
       "         8.66025410e-01, -4.99999989e-01],\n",
       "       [-1.86472672e+02,  1.27715584e+02,  3.63648608e-02,\n",
       "         2.56419669e+00,  2.85243454e+01,  0.00000000e+00,\n",
       "         8.09017000e-01, -5.87785244e-01],\n",
       "       [-1.86882156e+02,  1.27038399e+02,  3.63981985e-02,\n",
       "         2.59273925e+00,  2.84812278e+01,  0.00000000e+00,\n",
       "         7.43144830e-01, -6.69130601e-01],\n",
       "       [-1.87270187e+02,  1.26348770e+02,  3.64056006e-02,\n",
       "         2.62425390e+00,  2.85160871e+01,  0.00000000e+00,\n",
       "         6.69130609e-01, -7.43144823e-01],\n",
       "       [-1.87646790e+02,  1.25651726e+02,  3.64034250e-02,\n",
       "         2.64644989e+00,  2.85341272e+01,  0.00000000e+00,\n",
       "         5.87785265e-01, -8.09016985e-01],\n",
       "       [-1.88015289e+02,  1.24950272e+02,  3.64131145e-02,\n",
       "         2.65987928e+00,  2.85197106e+01,  0.00000000e+00,\n",
       "         5.00000011e-01, -8.66025397e-01],\n",
       "       [-1.88362244e+02,  1.24240990e+02,  3.64812464e-02,\n",
       "         2.68187246e+00,  2.83627352e+01,  0.00000000e+00,\n",
       "         4.06736652e-01, -9.13545454e-01],\n",
       "       [-1.88685715e+02,  1.23523643e+02,  3.64915468e-02,\n",
       "         2.71139772e+00,  2.83350257e+01,  0.00000000e+00,\n",
       "         3.09017001e-01, -9.51056514e-01],\n",
       "       [-1.88996933e+02,  1.22800415e+02,  3.64517197e-02,\n",
       "         2.73382900e+00,  2.83684312e+01,  0.00000000e+00,\n",
       "         2.07911695e-01, -9.78147600e-01],\n",
       "       [-1.89283569e+02,  1.22067810e+02,  3.64614092e-02,\n",
       "         2.76266651e+00,  2.83108884e+01,  0.00000000e+00,\n",
       "         1.04528479e-01, -9.94521894e-01],\n",
       "       [-1.89546600e+02,  1.21325737e+02,  3.64202857e-02,\n",
       "         2.79515494e+00,  2.84011100e+01,  0.00000000e+00,\n",
       "         1.33323208e-08, -1.00000000e+00],\n",
       "       [-1.89797455e+02,  1.20576035e+02,  3.63649353e-02,\n",
       "         2.81835467e+00,  2.85153229e+01,  0.00000000e+00,\n",
       "        -1.04528453e-01, -9.94521896e-01],\n",
       "       [-1.90023499e+02,  1.19817734e+02,  3.63931283e-02,\n",
       "         2.84690789e+00,  2.84819519e+01,  0.00000000e+00,\n",
       "        -2.07911683e-01, -9.78147602e-01],\n",
       "       [-1.90225677e+02,  1.19052513e+02,  3.63980085e-02,\n",
       "         2.87842134e+00,  2.85256407e+01,  0.00000000e+00,\n",
       "        -3.09016990e-01, -9.51056518e-01],\n",
       "       [-1.90414993e+02,  1.18282837e+02,  3.63960266e-02,\n",
       "         2.90062198e+00,  2.85481441e+01,  0.00000000e+00,\n",
       "        -4.06736628e-01, -9.13545464e-01],\n",
       "       [-1.90579163e+02,  1.17509247e+02,  3.64578627e-02,\n",
       "         2.92795094e+00,  2.84282492e+01,  0.00000000e+00,\n",
       "        -4.99999988e-01, -8.66025411e-01],\n",
       "       [-1.90719696e+02,  1.16732994e+02,  3.64715569e-02,\n",
       "         2.95794599e+00,  2.84051310e+01,  0.00000000e+00,\n",
       "        -5.87785244e-01, -8.09017001e-01],\n",
       "       [-1.90847488e+02,  1.15954483e+02,  3.64513397e-02,\n",
       "         2.97899309e+00,  2.84112490e+01,  0.00000000e+00,\n",
       "        -6.69130601e-01, -7.43144831e-01],\n",
       "       [-1.90966751e+02,  1.15174072e+02,  3.64257060e-02,\n",
       "         2.99170822e+00,  2.84328275e+01,  0.00000000e+00,\n",
       "        -7.43144822e-01, -6.69130610e-01],\n",
       "       [-1.91063721e+02,  1.14391876e+02,  3.64552289e-02,\n",
       "         3.01321018e+00,  2.83421816e+01,  0.00000000e+00,\n",
       "        -8.09016984e-01, -5.87785266e-01],\n",
       "       [-1.91137177e+02,  1.13607758e+02,  3.64376456e-02,\n",
       "         3.04179628e+00,  2.83863332e+01,  0.00000000e+00,\n",
       "        -8.66025397e-01, -5.00000012e-01],\n",
       "       [-1.91198624e+02,  1.12820595e+02,  3.63933183e-02,\n",
       "         3.06272926e+00,  2.84643736e+01,  0.00000000e+00,\n",
       "        -9.13545453e-01, -4.06736653e-01],\n",
       "       [-1.91252167e+02,  1.12030663e+02,  3.63650881e-02,\n",
       "         3.07536317e+00,  2.85319286e+01,  0.00000000e+00,\n",
       "        -9.51056514e-01, -3.09017002e-01],\n",
       "       [-1.91300568e+02,  1.11239014e+02,  3.63632962e-02,\n",
       "         3.08232893e+00,  2.85636616e+01,  0.00000000e+00,\n",
       "        -9.78147600e-01, -2.07911696e-01],\n",
       "       [-1.91345657e+02,  1.10446991e+02,  3.63843143e-02,\n",
       "         3.08604151e+00,  2.85506002e+01,  0.00000000e+00,\n",
       "        -9.94521894e-01, -1.04528480e-01],\n",
       "       [-1.91379623e+02,  1.09655884e+02,  3.64279933e-02,\n",
       "         3.09578069e+00,  2.84752222e+01,  0.00000000e+00,\n",
       "        -1.00000000e+00, -1.43244143e-08],\n",
       "       [-1.91404175e+02,  1.08866264e+02,  3.64528634e-02,\n",
       "         3.10786518e+00,  2.84190451e+01,  0.00000000e+00,\n",
       "        -9.94521897e-01,  1.04528452e-01],\n",
       "       [-1.91424286e+02,  1.08077744e+02,  3.64561081e-02,\n",
       "         3.11591539e+00,  2.83823563e+01,  0.00000000e+00,\n",
       "        -9.78147603e-01,  2.07911683e-01]])"
      ]
     },
     "execution_count": 71,
     "metadata": {},
     "output_type": "execute_result"
    }
   ],
   "source": [
    "y"
   ]
  },
  {
   "cell_type": "code",
   "execution_count": 70,
   "metadata": {},
   "outputs": [
    {
     "data": {
      "text/plain": [
       "array([[-625.27043231, -363.08746454,  -24.70158039,  532.57656257,\n",
       "          28.44722427,    0.        , -173.18658249, -284.12026143],\n",
       "       [-630.1216569 , -367.57861709,  -24.77631403,  537.22810388,\n",
       "          28.53312815,    0.        , -175.28739624, -285.93455867],\n",
       "       [-634.97572616, -372.09491078,  -24.70896879,  541.89516926,\n",
       "          28.45574546,    0.        , -177.40116021, -287.75146758],\n",
       "       [-639.81996143, -376.62354423,  -24.70892109,  546.56443532,\n",
       "          28.45571324,    0.        , -179.52239724, -289.56619483],\n",
       "       [-644.64830254, -381.14529356,  -24.7062897 ,  551.2193684 ,\n",
       "          28.4526862 ,    0.        , -181.64254978, -291.37757433],\n",
       "       [-649.46208156, -385.65780721,  -24.6935465 ,  555.86081187,\n",
       "          28.43803248,    0.        , -183.76108052, -293.18700324],\n",
       "       [-654.2585988 , -390.17759352,  -24.57246408,  560.50228311,\n",
       "          28.29885464,    0.        , -185.88646912, -294.99194505],\n",
       "       [-659.03258973, -394.70278085,  -24.57423789,  565.13952911,\n",
       "          28.30088793,    0.        , -188.01841316, -296.78943245],\n",
       "       [-663.7910625 , -399.22697367,  -24.62795651,  569.76744993,\n",
       "          28.36260444,    0.        , -190.1544371 , -298.58241058],\n",
       "       [-668.52579047, -403.75972862,  -24.59113195,  574.39141266,\n",
       "          28.32026979,    0.        , -192.29957971, -300.36586406],\n",
       "       [-673.23278591, -408.29726423,  -24.66897834,  579.00627828,\n",
       "          28.4097511 ,    0.        , -194.45247344, -302.13754412],\n",
       "       [-677.92104795, -412.83510691,  -24.75443248,  583.60961459,\n",
       "          28.50796977,    0.        , -196.6113898 , -303.90122793],\n",
       "       [-682.56961746, -417.36958708,  -24.7046505 ,  588.19441685,\n",
       "          28.45077025,    0.        , -198.77480148, -305.64745158],\n",
       "       [-687.16870186, -421.89030726,  -24.72302837,  592.74954935,\n",
       "          28.47191772,    0.        , -200.9379563 , -307.3719774 ],\n",
       "       [-691.7275587 , -426.39325162,  -24.73193751,  597.27309279,\n",
       "          28.48216008,    0.        , -203.09914509, -309.07860969],\n",
       "       [-696.25159272, -430.87980361,  -24.71994372,  601.76925916,\n",
       "          28.46837472,    0.        , -205.259099  , -310.76975351],\n",
       "       [-700.71718926, -435.34460147,  -24.58991298,  606.22991443,\n",
       "          28.31891753,    0.        , -207.41517652, -312.43505977],\n",
       "       [-705.11444806, -439.78069701,  -24.57639323,  610.64546812,\n",
       "          28.30337526,    0.        , -209.56401907, -314.06953517],\n",
       "       [-709.4645793 , -444.19613536,  -24.61523871,  615.02440129,\n",
       "          28.34799529,    0.        , -211.70948061, -315.68077538],\n",
       "       [-713.74202013, -448.58187948,  -24.56999729,  619.3538471 ,\n",
       "          28.29598192,    0.        , -213.84697238, -317.25744466],\n",
       "       [-717.94539096, -452.93589781,  -24.64772761,  623.6303707 ,\n",
       "          28.38532448,    0.        , -215.97529544, -318.79812158],\n",
       "       [-722.10041792, -457.27041424,  -24.74117198,  627.86756097,\n",
       "          28.49272215,    0.        , -218.10009494, -320.3123695 ],\n",
       "       [-726.17190604, -461.56521973,  -24.70361797,  632.04294622,\n",
       "          28.44957556,    0.        , -220.21117885, -321.78593264],\n",
       "       [-730.15373618, -465.81204263,  -24.73391897,  636.1479558 ,\n",
       "          28.48442847,    0.        , -222.30414264, -323.21611576],\n",
       "       [-734.06911756, -470.02047533,  -24.74961059,  640.19390268,\n",
       "          28.50247041,    0.        , -224.38318355, -324.61176791],\n",
       "       [-737.92929942, -474.19634503,  -24.73705678,  644.18984796,\n",
       "          28.4880454 ,    0.        , -226.45053657, -325.9777182 ],\n",
       "       [-741.69478209, -478.31537529,  -24.60042984,  648.11044184,\n",
       "          28.33101074,    0.        , -228.49382082, -327.29865239],\n",
       "       [-745.35334025, -482.36665299,  -24.57631532,  651.94285517,\n",
       "          28.30329229,    0.        , -230.50719124, -328.56924626],\n",
       "       [-748.93863243, -486.37089028,  -24.60543501,  655.70767821,\n",
       "          28.33673243,    0.        , -232.50008849, -329.80172952],\n",
       "       [-752.41180614, -490.30288715,  -24.55537824,  659.37760361,\n",
       "          28.27918121,    0.        , -234.4596383 , -330.98088638],\n",
       "       [-755.7740425 , -494.1620665 ,  -24.63390798,  662.95114091,\n",
       "          28.36943854,    0.        , -236.38491501, -332.10678154],\n",
       "       [-759.06389341, -497.97393913,  -24.73332583,  666.45462333,\n",
       "          28.48369963,    0.        , -238.28760948, -333.19386815],\n",
       "       [-762.2366183 , -501.70528714,  -24.70425655,  669.85483251,\n",
       "          28.45030407,    0.        , -240.15093307, -334.22565358],\n",
       "       [-765.28969379, -505.3500786 ,  -24.74224015,  673.14626307,\n",
       "          28.4939886 ,    0.        , -241.97131574, -335.20150608],\n",
       "       [-768.25908747, -508.93085016,  -24.76181286,  676.3529855 ,\n",
       "          28.5164938 ,    0.        , -243.75902781, -336.13533434],\n",
       "       [-771.09822855, -512.4107296 ,  -24.65744251,  679.43933566,\n",
       "          28.3965451 ,    0.        , -245.49555468, -337.01055842],\n",
       "       [-773.80896988, -515.78775452,  -24.6373147 ,  682.40411876,\n",
       "          28.37341503,    0.        , -247.17935433, -337.82837411],\n",
       "       [-776.43311928, -519.09204111,  -24.64267041,  685.27826415,\n",
       "          28.37955054,    0.        , -248.82444326, -338.60470156],\n",
       "       [-778.99473921, -522.34253407,  -24.6614803 ,  688.08391155,\n",
       "          28.40115133,    0.        , -250.43939027, -339.34965684],\n",
       "       [-781.44463634, -525.50143318,  -24.58260195,  690.78499391,\n",
       "          28.31047978,    0.        , -252.00536785, -340.04602474],\n",
       "       [-783.7744548 , -528.56002464,  -24.62102749,  693.37197365,\n",
       "          28.3546467 ,    0.        , -253.51777304, -340.69091505],\n",
       "       [-786.02857624, -531.55153325,  -24.68896999,  695.87706599,\n",
       "          28.43272563,    0.        , -254.99236386, -341.30077651],\n",
       "       [-788.2289532 , -534.49291091,  -24.74776607,  698.31991564,\n",
       "          28.50030523,    0.        , -256.43698495, -341.88495498],\n",
       "       [-790.39332318, -537.39766811,  -24.77536449,  700.71806272,\n",
       "          28.53203974,    0.        , -257.85785198, -342.45168734],\n",
       "       [-792.53322704, -540.27369512,  -24.76396923,  703.08304283,\n",
       "          28.51896003,    0.        , -259.2585453 , -343.00685483],\n",
       "       [-794.61757434, -543.09496398,  -24.69834315,  705.39078152,\n",
       "          28.44354409,    0.        , -260.62633908, -343.54018597],\n",
       "       [-796.64962283, -545.86151246,  -24.64944729,  707.64160729,\n",
       "          28.3873453 ,    0.        , -261.9612455 , -344.05354736],\n",
       "       [-798.64892349, -548.58765   ,  -24.61753672,  709.84994447,\n",
       "          28.35065374,    0.        , -263.27024698, -344.55470725]])"
      ]
     },
     "execution_count": 70,
     "metadata": {},
     "output_type": "execute_result"
    }
   ],
   "source": [
    "perturbed_matrix"
   ]
  },
  {
   "cell_type": "code",
   "execution_count": 73,
   "metadata": {},
   "outputs": [],
   "source": [
    "import numpy as np\n",
    "import matplotlib.pyplot as plt\n",
    "\n",
    "def plot_pos(pos_x, pos_y, pos_x_shuffled):\n",
    "\n",
    "    # Convert 2D arrays to 1D arrays\n",
    "    pos_x = np.squeeze(pos_x)\n",
    "    pos_y = np.squeeze(pos_y)\n",
    "\n",
    "    # Print original arrays\n",
    "    #print(\"Original pos.x:\", pos_x)\n",
    "    #print(\"Original pos.y:\", pos_y)\n",
    "    \n",
    "    # Plot original pos.x and pos.y\n",
    "    plt.figure(figsize=(10, 5))\n",
    "    plt.subplot(2, 1, 1)\n",
    "    plt.plot(pos_x, pos_y, label='(pos.x, pos.y)')\n",
    "    plt.title('Original pos.x')\n",
    "    plt.legend()\n",
    "\n",
    "    \n",
    "    # Print shuffled pos.x\n",
    "    #print(\"Shuffled pos.x:\", pos_x_shuffled)\n",
    "    \n",
    "    # Plot shuffled pos.x and pos.y\n",
    "    plt.subplot(2, 1, 2)\n",
    "    plt.plot(pos_x_shuffled, pos_y, label='(pos.x, pos.y)')\n",
    "    plt.title('Shuffled pos.x')\n",
    "    plt.legend()\n",
    "    \n",
    "    plt.tight_layout()\n",
    "    plt.show()"
   ]
  },
  {
   "cell_type": "code",
   "execution_count": 72,
   "metadata": {},
   "outputs": [],
   "source": [
    "pos_x = y[:, :1]\n",
    "pos_y = y[:, 1:2]\n",
    "pos_x_shuffle = perturbed_matrix[:, :1]"
   ]
  },
  {
   "cell_type": "code",
   "execution_count": 74,
   "metadata": {},
   "outputs": [
    {
     "data": {
      "image/png": "[encoded data removed]",
      "text/plain": [
       "<Figure size 1000x500 with 2 Axes>"
      ]
     },
     "metadata": {},
     "output_type": "display_data"
    }
   ],
   "source": [
    "plot_pos(pos_x, pos_y, pos_x_shuffle)"
   ]
  },
  {
   "cell_type": "code",
   "execution_count": 75,
   "metadata": {},
   "outputs": [],
   "source": [
    "import numpy as np\n",
    "\n",
    "def perturb_time_series(matrix):\n",
    "    # Calculate correlation matrix\n",
    "    corr_matrix = np.corrcoef(matrix, rowvar=False)\n",
    "    \n",
    "    # Initialize perturbation matrix\n",
    "    perturbed_matrix = np.copy(matrix)\n",
    "    \n",
    "    # Iterate over each feature\n",
    "    for i in range(matrix.shape[1]):\n",
    "        # Find indices of features with high correlation with feature i\n",
    "        correlated_features = np.where(np.abs(corr_matrix[i]) > 0.7)[0]\n",
    "        \n",
    "        # Compute perturbation values based on correlation grade\n",
    "        for j in correlated_features:\n",
    "            if i != j:\n",
    "                perturbation_factor = corr_matrix[i, j]\n",
    "                perturbed_matrix[:, j] += perturbation_factor * perturbed_matrix[:, i]\n",
    "    \n",
    "    # Add noise perturbation for features with low correlation\n",
    "    for i in range(matrix.shape[1]):\n",
    "        if np.abs(corr_matrix[i]).max() <= 0.7:\n",
    "            perturbed_matrix[:, i] *= np.mean(perturbed_matrix[:, i])\n",
    "    \n",
    "    return perturbed_matrix\n"
   ]
  },
  {
   "cell_type": "code",
   "execution_count": 76,
   "metadata": {},
   "outputs": [
    {
     "name": "stderr",
     "output_type": "stream",
     "text": [
      "/home/ab000840/.local/lib/python3.10/site-packages/numpy/lib/function_base.py:2897: RuntimeWarning: invalid value encountered in divide\n",
      "  c /= stddev[:, None]\n",
      "/home/ab000840/.local/lib/python3.10/site-packages/numpy/lib/function_base.py:2898: RuntimeWarning: invalid value encountered in divide\n",
      "  c /= stddev[None, :]\n"
     ]
    }
   ],
   "source": [
    "perturbed_matrix_2 = perturb_time_series(y)"
   ]
  },
  {
   "cell_type": "code",
   "execution_count": 77,
   "metadata": {},
   "outputs": [
    {
     "data": {
      "text/plain": [
       "array([[-625.27043231, -363.08746454,  -24.70158039,  532.57656257,\n",
       "          28.44722427,    0.        , -173.18658249, -284.12026143],\n",
       "       [-630.1216569 , -367.57861709,  -24.77631403,  537.22810388,\n",
       "          28.53312815,    0.        , -175.28739624, -285.93455867],\n",
       "       [-634.97572616, -372.09491078,  -24.70896879,  541.89516926,\n",
       "          28.45574546,    0.        , -177.40116021, -287.75146758],\n",
       "       [-639.81996143, -376.62354423,  -24.70892109,  546.56443532,\n",
       "          28.45571324,    0.        , -179.52239724, -289.56619483],\n",
       "       [-644.64830254, -381.14529356,  -24.7062897 ,  551.2193684 ,\n",
       "          28.4526862 ,    0.        , -181.64254978, -291.37757433],\n",
       "       [-649.46208156, -385.65780721,  -24.6935465 ,  555.86081187,\n",
       "          28.43803248,    0.        , -183.76108052, -293.18700324],\n",
       "       [-654.2585988 , -390.17759352,  -24.57246408,  560.50228311,\n",
       "          28.29885464,    0.        , -185.88646912, -294.99194505],\n",
       "       [-659.03258973, -394.70278085,  -24.57423789,  565.13952911,\n",
       "          28.30088793,    0.        , -188.01841316, -296.78943245],\n",
       "       [-663.7910625 , -399.22697367,  -24.62795651,  569.76744993,\n",
       "          28.36260444,    0.        , -190.1544371 , -298.58241058],\n",
       "       [-668.52579047, -403.75972862,  -24.59113195,  574.39141266,\n",
       "          28.32026979,    0.        , -192.29957971, -300.36586406],\n",
       "       [-673.23278591, -408.29726423,  -24.66897834,  579.00627828,\n",
       "          28.4097511 ,    0.        , -194.45247344, -302.13754412],\n",
       "       [-677.92104795, -412.83510691,  -24.75443248,  583.60961459,\n",
       "          28.50796977,    0.        , -196.6113898 , -303.90122793],\n",
       "       [-682.56961746, -417.36958708,  -24.7046505 ,  588.19441685,\n",
       "          28.45077025,    0.        , -198.77480148, -305.64745158],\n",
       "       [-687.16870186, -421.89030726,  -24.72302837,  592.74954935,\n",
       "          28.47191772,    0.        , -200.9379563 , -307.3719774 ],\n",
       "       [-691.7275587 , -426.39325162,  -24.73193751,  597.27309279,\n",
       "          28.48216008,    0.        , -203.09914509, -309.07860969],\n",
       "       [-696.25159272, -430.87980361,  -24.71994372,  601.76925916,\n",
       "          28.46837472,    0.        , -205.259099  , -310.76975351],\n",
       "       [-700.71718926, -435.34460147,  -24.58991298,  606.22991443,\n",
       "          28.31891753,    0.        , -207.41517652, -312.43505977],\n",
       "       [-705.11444806, -439.78069701,  -24.57639323,  610.64546812,\n",
       "          28.30337526,    0.        , -209.56401907, -314.06953517],\n",
       "       [-709.4645793 , -444.19613536,  -24.61523871,  615.02440129,\n",
       "          28.34799529,    0.        , -211.70948061, -315.68077538],\n",
       "       [-713.74202013, -448.58187948,  -24.56999729,  619.3538471 ,\n",
       "          28.29598192,    0.        , -213.84697238, -317.25744466],\n",
       "       [-717.94539096, -452.93589781,  -24.64772761,  623.6303707 ,\n",
       "          28.38532448,    0.        , -215.97529544, -318.79812158],\n",
       "       [-722.10041792, -457.27041424,  -24.74117198,  627.86756097,\n",
       "          28.49272215,    0.        , -218.10009494, -320.3123695 ],\n",
       "       [-726.17190604, -461.56521973,  -24.70361797,  632.04294622,\n",
       "          28.44957556,    0.        , -220.21117885, -321.78593264],\n",
       "       [-730.15373618, -465.81204263,  -24.73391897,  636.1479558 ,\n",
       "          28.48442847,    0.        , -222.30414264, -323.21611576],\n",
       "       [-734.06911756, -470.02047533,  -24.74961059,  640.19390268,\n",
       "          28.50247041,    0.        , -224.38318355, -324.61176791],\n",
       "       [-737.92929942, -474.19634503,  -24.73705678,  644.18984796,\n",
       "          28.4880454 ,    0.        , -226.45053657, -325.9777182 ],\n",
       "       [-741.69478209, -478.31537529,  -24.60042984,  648.11044184,\n",
       "          28.33101074,    0.        , -228.49382082, -327.29865239],\n",
       "       [-745.35334025, -482.36665299,  -24.57631532,  651.94285517,\n",
       "          28.30329229,    0.        , -230.50719124, -328.56924626],\n",
       "       [-748.93863243, -486.37089028,  -24.60543501,  655.70767821,\n",
       "          28.33673243,    0.        , -232.50008849, -329.80172952],\n",
       "       [-752.41180614, -490.30288715,  -24.55537824,  659.37760361,\n",
       "          28.27918121,    0.        , -234.4596383 , -330.98088638],\n",
       "       [-755.7740425 , -494.1620665 ,  -24.63390798,  662.95114091,\n",
       "          28.36943854,    0.        , -236.38491501, -332.10678154],\n",
       "       [-759.06389341, -497.97393913,  -24.73332583,  666.45462333,\n",
       "          28.48369963,    0.        , -238.28760948, -333.19386815],\n",
       "       [-762.2366183 , -501.70528714,  -24.70425655,  669.85483251,\n",
       "          28.45030407,    0.        , -240.15093307, -334.22565358],\n",
       "       [-765.28969379, -505.3500786 ,  -24.74224015,  673.14626307,\n",
       "          28.4939886 ,    0.        , -241.97131574, -335.20150608],\n",
       "       [-768.25908747, -508.93085016,  -24.76181286,  676.3529855 ,\n",
       "          28.5164938 ,    0.        , -243.75902781, -336.13533434],\n",
       "       [-771.09822855, -512.4107296 ,  -24.65744251,  679.43933566,\n",
       "          28.3965451 ,    0.        , -245.49555468, -337.01055842],\n",
       "       [-773.80896988, -515.78775452,  -24.6373147 ,  682.40411876,\n",
       "          28.37341503,    0.        , -247.17935433, -337.82837411],\n",
       "       [-776.43311928, -519.09204111,  -24.64267041,  685.27826415,\n",
       "          28.37955054,    0.        , -248.82444326, -338.60470156],\n",
       "       [-778.99473921, -522.34253407,  -24.6614803 ,  688.08391155,\n",
       "          28.40115133,    0.        , -250.43939027, -339.34965684],\n",
       "       [-781.44463634, -525.50143318,  -24.58260195,  690.78499391,\n",
       "          28.31047978,    0.        , -252.00536785, -340.04602474],\n",
       "       [-783.7744548 , -528.56002464,  -24.62102749,  693.37197365,\n",
       "          28.3546467 ,    0.        , -253.51777304, -340.69091505],\n",
       "       [-786.02857624, -531.55153325,  -24.68896999,  695.87706599,\n",
       "          28.43272563,    0.        , -254.99236386, -341.30077651],\n",
       "       [-788.2289532 , -534.49291091,  -24.74776607,  698.31991564,\n",
       "          28.50030523,    0.        , -256.43698495, -341.88495498],\n",
       "       [-790.39332318, -537.39766811,  -24.77536449,  700.71806272,\n",
       "          28.53203974,    0.        , -257.85785198, -342.45168734],\n",
       "       [-792.53322704, -540.27369512,  -24.76396923,  703.08304283,\n",
       "          28.51896003,    0.        , -259.2585453 , -343.00685483],\n",
       "       [-794.61757434, -543.09496398,  -24.69834315,  705.39078152,\n",
       "          28.44354409,    0.        , -260.62633908, -343.54018597],\n",
       "       [-796.64962283, -545.86151246,  -24.64944729,  707.64160729,\n",
       "          28.3873453 ,    0.        , -261.9612455 , -344.05354736],\n",
       "       [-798.64892349, -548.58765   ,  -24.61753672,  709.84994447,\n",
       "          28.35065374,    0.        , -263.27024698, -344.55470725]])"
      ]
     },
     "execution_count": 77,
     "metadata": {},
     "output_type": "execute_result"
    }
   ],
   "source": [
    "perturbed_matrix_2"
   ]
  },
  {
   "cell_type": "code",
   "execution_count": null,
   "metadata": {},
   "outputs": [],
   "source": []
  }
 ],
 "metadata": {
  "kernelspec": {
   "display_name": "Python 3",
   "language": "python",
   "name": "python3"
  },
  "language_info": {
   "codemirror_mode": {
    "name": "ipython",
    "version": 3
   },
   "file_extension": ".py",
   "mimetype": "text/x-python",
   "name": "python",
   "nbconvert_exporter": "python",
   "pygments_lexer": "ipython3",
   "version": "3.10.12"
  }
 },
 "nbformat": 4,
 "nbformat_minor": 2
}
