{
 "cells": [
  {
   "cell_type": "code",
   "execution_count": 3,
   "metadata": {},
   "outputs": [],
   "source": [
    "import pandas as pd\n",
    "\n",
    "csv_input = pd.read_csv('files/dataset_trajectory.csv')\n",
    "data = csv_input[list(('pos.x', 'pos.y'))]\n",
    "data = csv_input"
   ]
  },
  {
   "cell_type": "code",
   "execution_count": 5,
   "metadata": {},
   "outputs": [],
   "source": [
    "#data = data.head(28)\n",
    "#data"
   ]
  },
  {
   "cell_type": "code",
   "execution_count": 6,
   "metadata": {},
   "outputs": [],
   "source": [
    "#segment_counts = data['segment'].value_counts()\n",
    "#segment_counts"
   ]
  },
  {
   "cell_type": "code",
   "execution_count": 7,
   "metadata": {},
   "outputs": [],
   "source": [
    "#segment_counts['segment14']"
   ]
  },
  {
   "cell_type": "code",
   "execution_count": 4,
   "metadata": {},
   "outputs": [],
   "source": [
    "# Transform segment to Integer\n",
    "# Identify unique values in the 'Segment' column\n",
    "\n",
    "#unique_segments = data['segment'].unique()\n"
   ]
  },
  {
   "cell_type": "code",
   "execution_count": 5,
   "metadata": {},
   "outputs": [],
   "source": [
    "# Create a mapping of unique values to integers\n",
    "\n",
    "#segment_mapping = {segment: i+1 for i, segment in enumerate(unique_segments)}"
   ]
  },
  {
   "cell_type": "code",
   "execution_count": 6,
   "metadata": {},
   "outputs": [],
   "source": [
    "# Replace values in the 'Segment' column using the mapping\n",
    "\n",
    "#data['segment'] = data['segment'].replace(segment_mapping)"
   ]
  },
  {
   "cell_type": "code",
   "execution_count": 8,
   "metadata": {},
   "outputs": [],
   "source": [
    "#segment_counts = data['segment'].value_counts()\n",
    "#segment_counts"
   ]
  },
  {
   "cell_type": "code",
   "execution_count": 9,
   "metadata": {},
   "outputs": [],
   "source": [
    "#segmentType_counts = data['segType'].value_counts()\n",
    "#segmentType_counts"
   ]
  },
  {
   "cell_type": "code",
   "execution_count": 9,
   "metadata": {},
   "outputs": [],
   "source": [
    "# Remove all rows with 'unknown' values in clumn 'segType'\n",
    "\n",
    "#data=data[data['segType'] != 'unknown']"
   ]
  },
  {
   "cell_type": "code",
   "execution_count": 10,
   "metadata": {},
   "outputs": [],
   "source": [
    "#segmentType_counts = data['segType'].value_counts()\n",
    "#segmentType_counts"
   ]
  },
  {
   "cell_type": "code",
   "execution_count": 11,
   "metadata": {},
   "outputs": [],
   "source": [
    "# Transform segType to Integer\n",
    "# Identify unique values in the 'Segment' column\n",
    "\n",
    "#unique_segTypes = data['segType'].unique()"
   ]
  },
  {
   "cell_type": "code",
   "execution_count": 12,
   "metadata": {},
   "outputs": [],
   "source": [
    "# Create a mapping of unique values to integers\n",
    "\n",
    "#segType_mapping = {segType: i+1 for i, segType in enumerate(unique_segTypes)}"
   ]
  },
  {
   "cell_type": "code",
   "execution_count": 11,
   "metadata": {},
   "outputs": [],
   "source": [
    "# Replace values in the 'Segment' column using the mapping\n",
    "\n",
    "#data['segType'] = data['segType'].replace(segType_mapping)"
   ]
  },
  {
   "cell_type": "code",
   "execution_count": 12,
   "metadata": {},
   "outputs": [],
   "source": [
    "#segmentType_counts = data['segType'].value_counts()\n",
    "#segmentType_counts"
   ]
  },
  {
   "cell_type": "code",
   "execution_count": 15,
   "metadata": {},
   "outputs": [],
   "source": [
    "#data.to_csv('files/trajectory_rid.csv', index=False)"
   ]
  },
  {
   "cell_type": "code",
   "execution_count": 22,
   "metadata": {},
   "outputs": [],
   "source": [
    "#data1 = data[list(('x', 'y', 'segment'))]"
   ]
  },
  {
   "cell_type": "code",
   "execution_count": 26,
   "metadata": {},
   "outputs": [],
   "source": [
    "#filtered_df = data1[data1['segment'] == 2]"
   ]
  },
  {
   "cell_type": "code",
   "execution_count": 13,
   "metadata": {},
   "outputs": [],
   "source": [
    "#observed = filtered_df.to_numpy()\n",
    "#observed"
   ]
  },
  {
   "cell_type": "code",
   "execution_count": 14,
   "metadata": {},
   "outputs": [
    {
     "data": {
      "text/plain": [
       "array([[-7.70306702e+01, -1.28344846e+00,  2.94199973e-01,\n",
       "        -1.56836220e+00,  7.05600100e+00,  2.00000000e+00],\n",
       "       [-7.70306702e+01, -1.28344846e+00,  6.13106526e-02,\n",
       "        -1.56836220e+00,  7.17255778e+00,  2.00000000e+00],\n",
       "       [-7.70297775e+01, -1.28353894e+00, -3.03188320e-02,\n",
       "        -1.56844263e+00,  1.05302784e+00,  2.00000000e+00],\n",
       "       ...,\n",
       "       [ 3.51016541e+01, -2.70580444e+01, -1.10165020e-02,\n",
       "        -5.12259058e-04,  2.19122579e+01,  2.00000000e+00],\n",
       "       [ 3.51019516e+01, -2.64580898e+01, -1.10211177e-02,\n",
       "        -5.09595895e-04,  2.16001143e+01,  2.00000000e+00],\n",
       "       [ 3.51022415e+01, -2.58656235e+01, -1.10353082e-02,\n",
       "        -5.09595890e-04,  2.13640130e+01,  2.00000000e+00]])"
      ]
     },
     "execution_count": 14,
     "metadata": {},
     "output_type": "execute_result"
    }
   ],
   "source": [
    "observed = data.to_numpy()\n",
    "observed"
   ]
  },
  {
   "cell_type": "code",
   "execution_count": 15,
   "metadata": {},
   "outputs": [],
   "source": [
    "import matplotlib.pyplot as plt\n",
    "#If you want to do it in town11 use:\n",
    "#center = (390, 700)\n",
    "#x_scale = 1/25\n",
    "#y_scale = -1/25\n",
    "\n",
    "def calculatePosition(x,y):\n",
    "    center = (390, 330)\n",
    "    #center = (390, 700)\n",
    "    x_scale = 1.25\n",
    "    y_scale = -1.25\n",
    "    return ((x*x_scale+center[0]), (y*y_scale+center[1]))\n",
    "\n",
    "def plot_pred(observed, future, predicted):\n",
    "    #img = plt.imread(\"assets/Town05_0.5sqk.jpg\")\n",
    "\n",
    "    img = plt.imread(\"assets/Town11_400sqk.png\")\n",
    "\n",
    "    fig, ax = plt.subplots()\n",
    "    ax.imshow(img)\n",
    "\n",
    "    xs = []\n",
    "    ys = []\n",
    "    fxs = []\n",
    "    fys = []\n",
    "    pxs = []\n",
    "    pys = []\n",
    "    \n",
    "    for v in observed:\n",
    "        (x,y) = calculatePosition(v[0], v[1])\n",
    "        xs.append(x)\n",
    "        ys.append(y)\n",
    "\n",
    "    for v in future[:len(predicted)]:\n",
    "        (x,y) = calculatePosition(v[0], v[1])\n",
    "        fxs.append(x)\n",
    "        fys.append(y)\n",
    "    \n",
    "    for v in predicted:\n",
    "        (x,y) = calculatePosition(v[0], v[1])\n",
    "        pxs.append(x)\n",
    "        pys.append(y)\n",
    "\n",
    "    plt.scatter(fxs, fys, color=\"orange\", zorder=1)\n",
    "    plt.scatter(pxs, pys, color=\"red\", zorder=3)\n",
    "    plt.scatter(xs, ys, color=\"blue\", zorder=2)\n",
    "    plt.legend(['ActualFuture', 'PredictedFuture', 'Input'])\n",
    "    plt.show()\n",
    "\n",
    "def plot(observed):\n",
    "    img = plt.imread(\"assets/Town05_0.5sqk.jpg\")\n",
    "\n",
    "    #img = plt.imread(\"assets/Town11_400sqk.png\")\n",
    "\n",
    "    fig, ax = plt.subplots()\n",
    "    ax.imshow(img)\n",
    "\n",
    "    xs = []\n",
    "    ys = []\n",
    "    \n",
    "    for v in observed:\n",
    "        (x,y) = calculatePosition(v[0], v[1])\n",
    "        xs.append(x)\n",
    "        ys.append(y)\n",
    "    \n",
    "    marker_on = [xs[0], xs[len(xs)-1]]\n",
    "\n",
    "    plt.scatter(xs, ys, color=\"blue\", zorder=2)\n",
    "    plt.legend(['ActualFuture'])\n",
    "    plt.show()"
   ]
  },
  {
   "cell_type": "code",
   "execution_count": 16,
   "metadata": {},
   "outputs": [
    {
     "data": {
      "image/png": "[encoded data removed]",
      "text/plain": [
       "<Figure size 640x480 with 1 Axes>"
      ]
     },
     "metadata": {},
     "output_type": "display_data"
    }
   ],
   "source": [
    "plot(observed=observed)"
   ]
  },
  {
   "cell_type": "code",
   "execution_count": null,
   "metadata": {},
   "outputs": [],
   "source": [
    "size = 10000000\n",
    "\n",
    "for item in range(0, 162):\n",
    "    csv_input = pd.read_csv('files/data_07mars2024/random_'+str(item)+'.csv')\n",
    "    data = csv_input[list(('x', 'y'))]\n",
    "    if size > len(data):\n",
    "        size = len(data)\n",
    "\n",
    "size"
   ]
  }
 ],
 "metadata": {
  "kernelspec": {
   "display_name": "Python 3",
   "language": "python",
   "name": "python3"
  },
  "language_info": {
   "codemirror_mode": {
    "name": "ipython",
    "version": 3
   },
   "file_extension": ".py",
   "mimetype": "text/x-python",
   "name": "python",
   "nbconvert_exporter": "python",
   "pygments_lexer": "ipython3",
   "version": "3.10.12"
  }
 },
 "nbformat": 4,
 "nbformat_minor": 2
}
