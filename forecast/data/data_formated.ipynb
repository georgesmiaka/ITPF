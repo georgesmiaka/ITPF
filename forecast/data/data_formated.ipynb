{
 "cells": [
  {
   "cell_type": "code",
   "execution_count": 1,
   "metadata": {},
   "outputs": [
    {
     "data": {
      "text/plain": [
       "['files/evaluation/random_0.csv']"
      ]
     },
     "execution_count": 1,
     "metadata": {},
     "output_type": "execute_result"
    }
   ],
   "source": [
    "import pandas as pd\n",
    "\n",
    "# list all csv files only\n",
    "csv_files = []\n",
    "\n",
    "for item in range(0, 1):\n",
    "    csv_files.append(\"files/evaluation/random_\"+str(item)+\".csv\")\n",
    "\n",
    "csv_files"
   ]
  },
  {
   "cell_type": "code",
   "execution_count": 2,
   "metadata": {},
   "outputs": [],
   "source": [
    "df_csv_append = []\n",
    "for file in csv_files:\n",
    "    df = pd.read_csv(file)\n",
    "    #df = df.head(2400)\n",
    "    if(len(df)==1801):\n",
    "        df = df.head(1800)\n",
    "    if(len(df)==3601):\n",
    "        df = df.head(3600)\n",
    "    if(len(df)==5401):\n",
    "        df = df.head(5400)\n",
    "    df_csv_append.append(df)\n",
    "\n"
   ]
  },
  {
   "cell_type": "code",
   "execution_count": 3,
   "metadata": {},
   "outputs": [],
   "source": [
    "final_csv = pd.concat(df_csv_append, ignore_index=True)\n",
    "final_csv.to_csv(\"files/evaluation_09mars24.csv\", index=False)"
   ]
  },
  {
   "cell_type": "markdown",
   "metadata": {},
   "source": [
    "## Use this section only for add data to the global dataset \"dataset_trajectory.csv\""
   ]
  },
  {
   "cell_type": "code",
   "execution_count": 6,
   "metadata": {},
   "outputs": [],
   "source": [
    "csv_to_global = [\"files/dataset_trajectory_04mars24.csv\", \"files/dataset_trajectory_07mars24.csv\"]\n",
    "\n",
    "df_csv_global_append = []\n",
    "for file in csv_to_global:\n",
    "    df = pd.read_csv(file)\n",
    "    df_csv_global_append.append(df)\n",
    "\n",
    "final_global_csv = pd.concat(df_csv_global_append, ignore_index=True)\n",
    "final_global_csv.to_csv(\"files/dataset_trajectory.csv\", index=False)"
   ]
  }
 ],
 "metadata": {
  "kernelspec": {
   "display_name": "Python 3",
   "language": "python",
   "name": "python3"
  },
  "language_info": {
   "codemirror_mode": {
    "name": "ipython",
    "version": 3
   },
   "file_extension": ".py",
   "mimetype": "text/x-python",
   "name": "python",
   "nbconvert_exporter": "python",
   "pygments_lexer": "ipython3",
   "version": "3.10.12"
  }
 },
 "nbformat": 4,
 "nbformat_minor": 2
}
